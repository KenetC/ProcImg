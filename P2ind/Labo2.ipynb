{
 "cells": [
  {
   "cell_type": "code",
   "execution_count": 25,
   "id": "1cf43044",
   "metadata": {},
   "outputs": [],
   "source": [
    "import numpy as np \n",
    "from scipy.signal import convolve2d\n",
    "import cv2"
   ]
  },
  {
   "cell_type": "markdown",
   "id": "9245aad2",
   "metadata": {},
   "source": [
    "### Ejercicio 3"
   ]
  },
  {
   "cell_type": "code",
   "execution_count": 22,
   "id": "7139b1e7",
   "metadata": {},
   "outputs": [],
   "source": [
    "def convolution_2d(image1, image2):\n",
    "    M1, N1 = image1.shape\n",
    "    M2, N2 = image2.shape\n",
    "\n",
    "    Mr = M1 + M2 - 1\n",
    "    Nr = N1 + N2 - 1\n",
    "    \n",
    "    C = np.zeros((Mr, Nr))\n",
    "    \n",
    "    padded_image = np.zeros((M1 + 2*(M2-1),N2 + 2*(N2-1)))\n",
    "    \n",
    "    for i in range(M1):\n",
    "        for j in range(N1): \n",
    "            padded_image[i + M2-1, j + N2-1] = image1[i,j]\n",
    "    \n",
    "    for i in range(M1):\n",
    "        for j in range(N1):\n",
    "            region = padded_image[i:i+M2, j:j+N2]\n",
    "            C[i, j] = np.sum(region * image2)\n",
    "    \n",
    "    return C"
   ]
  },
  {
   "cell_type": "code",
   "execution_count": 23,
   "id": "6fe3c477",
   "metadata": {},
   "outputs": [
    {
     "name": "stdout",
     "output_type": "stream",
     "text": [
      "Conmutativa  True\n",
      "Distributiva  True\n",
      "Asociativa  True\n"
     ]
    }
   ],
   "source": [
    "x = np.array([[1, 2, 1], \n",
    "              [0, 1, 0], \n",
    "              [2, 1, 2]])\n",
    "\n",
    "h1 = np.array([[0, 1], \n",
    "               [1, 0]])\n",
    "\n",
    "h2 = np.array([[1, 0], \n",
    "               [0, 1]])\n",
    "\n",
    "# Propiedad Conmutativa: x * h1 = h1 * x\n",
    "conv_x_h1 = convolve2d(x, h1, mode='full')\n",
    "conv_h1_x = convolve2d(h1, x, mode='full')\n",
    "conmutativa = np.array_equal(conv_x_h1, conv_h1_x)\n",
    "print(\"Conmutativa \",conmutativa)\n",
    "\n",
    "# Propiedad Distributiva: x * (h1 + h2) = x * h1 + x * h2\n",
    "sum_h1_h2 = h1 + h2\n",
    "conv_x_sum = convolve2d(x, sum_h1_h2, mode='full')\n",
    "conv_x_h1 = convolve2d(x, h1, mode='full')\n",
    "conv_x_h2 = convolve2d(x, h2, mode='full')\n",
    "distributiva = np.array_equal(conv_x_sum, conv_x_h1 + conv_x_h2)\n",
    "print(\"Distributiva \",distributiva)\n",
    "\n",
    "# Propiedad Asociativa: x * (h1 * h2) = (x * h1) * h2\n",
    "conv_h1_h2 = convolve2d(h1, h2, mode='full')\n",
    "conv_x_h1_h2 = convolve2d(x, conv_h1_h2, mode='full')\n",
    "conv_x_h1 = convolve2d(x, h1, mode='full')\n",
    "conv_x_h1_then_h2 = convolve2d(conv_x_h1, h2, mode='full')\n",
    "asociativa = np.array_equal(conv_x_h1_h2, conv_x_h1_then_h2)\n",
    "print(\"Asociativa \",asociativa)"
   ]
  },
  {
   "cell_type": "markdown",
   "id": "9e043fa6",
   "metadata": {},
   "source": [
    "### Ejercicio 4."
   ]
  },
  {
   "cell_type": "code",
   "execution_count": 26,
   "id": "3a5ee0ff",
   "metadata": {},
   "outputs": [
    {
     "ename": "IndexError",
     "evalue": "index 7 is out of bounds for axis 1 with size 7",
     "output_type": "error",
     "traceback": [
      "\u001b[0;31m---------------------------------------------------------------------------\u001b[0m",
      "\u001b[0;31mIndexError\u001b[0m                                Traceback (most recent call last)",
      "\u001b[0;32m/tmp/ipykernel_8833/666710315.py\u001b[0m in \u001b[0;36m<module>\u001b[0;34m\u001b[0m\n\u001b[1;32m     69\u001b[0m \u001b[0;32mfor\u001b[0m \u001b[0msize\u001b[0m \u001b[0;32min\u001b[0m \u001b[0;34m[\u001b[0m\u001b[0;36m3\u001b[0m\u001b[0;34m,\u001b[0m \u001b[0;36m9\u001b[0m\u001b[0;34m]\u001b[0m\u001b[0;34m:\u001b[0m\u001b[0;34m\u001b[0m\u001b[0;34m\u001b[0m\u001b[0m\n\u001b[1;32m     70\u001b[0m     \u001b[0;31m# Aplicar cada uno de los filtros\u001b[0m\u001b[0;34m\u001b[0m\u001b[0;34m\u001b[0m\u001b[0m\n\u001b[0;32m---> 71\u001b[0;31m     \u001b[0mmean_filtered\u001b[0m \u001b[0;34m=\u001b[0m \u001b[0mapply_filter\u001b[0m\u001b[0;34m(\u001b[0m\u001b[0mimage\u001b[0m\u001b[0;34m,\u001b[0m \u001b[0;34m\"mean\"\u001b[0m\u001b[0;34m,\u001b[0m \u001b[0msize\u001b[0m\u001b[0;34m=\u001b[0m\u001b[0msize\u001b[0m\u001b[0;34m)\u001b[0m\u001b[0;34m\u001b[0m\u001b[0;34m\u001b[0m\u001b[0m\n\u001b[0m\u001b[1;32m     72\u001b[0m     \u001b[0mgaussian_filtered\u001b[0m \u001b[0;34m=\u001b[0m \u001b[0mapply_filter\u001b[0m\u001b[0;34m(\u001b[0m\u001b[0mimage\u001b[0m\u001b[0;34m,\u001b[0m \u001b[0;34m\"gaussian\"\u001b[0m\u001b[0;34m,\u001b[0m \u001b[0msize\u001b[0m\u001b[0;34m=\u001b[0m\u001b[0msize\u001b[0m\u001b[0;34m)\u001b[0m\u001b[0;34m\u001b[0m\u001b[0;34m\u001b[0m\u001b[0m\n\u001b[1;32m     73\u001b[0m \u001b[0;31m#         median_filtered = apply_filter(image, \"median\", size=size)\u001b[0m\u001b[0;34m\u001b[0m\u001b[0;34m\u001b[0m\u001b[0m\n",
      "\u001b[0;32m/tmp/ipykernel_8833/666710315.py\u001b[0m in \u001b[0;36mapply_filter\u001b[0;34m(image, filter_type, size)\u001b[0m\n\u001b[1;32m     32\u001b[0m         \u001b[0;31m# Aplicar filtro de media o gaussiano usando convolución 2D\u001b[0m\u001b[0;34m\u001b[0m\u001b[0;34m\u001b[0m\u001b[0m\n\u001b[1;32m     33\u001b[0m         \u001b[0mkernel\u001b[0m \u001b[0;34m=\u001b[0m \u001b[0mcreate_filter\u001b[0m\u001b[0;34m(\u001b[0m\u001b[0mfilter_type\u001b[0m\u001b[0;34m,\u001b[0m \u001b[0msize\u001b[0m\u001b[0;34m)\u001b[0m\u001b[0;34m\u001b[0m\u001b[0;34m\u001b[0m\u001b[0m\n\u001b[0;32m---> 34\u001b[0;31m         \u001b[0;32mreturn\u001b[0m \u001b[0mconvolution_2d\u001b[0m\u001b[0;34m(\u001b[0m\u001b[0mimage\u001b[0m\u001b[0;34m,\u001b[0m\u001b[0mkernel\u001b[0m\u001b[0;34m)\u001b[0m\u001b[0;34m\u001b[0m\u001b[0;34m\u001b[0m\u001b[0m\n\u001b[0m\u001b[1;32m     35\u001b[0m     \u001b[0;32melif\u001b[0m \u001b[0mfilter_type\u001b[0m \u001b[0;34m==\u001b[0m \u001b[0;34m\"median\"\u001b[0m\u001b[0;34m:\u001b[0m\u001b[0;34m\u001b[0m\u001b[0;34m\u001b[0m\u001b[0m\n\u001b[1;32m     36\u001b[0m         \u001b[0;31m# Aplicar filtro de mediana usando scipy.ndimage\u001b[0m\u001b[0;34m\u001b[0m\u001b[0;34m\u001b[0m\u001b[0m\n",
      "\u001b[0;32m/tmp/ipykernel_8833/1512022653.py\u001b[0m in \u001b[0;36mconvolution_2d\u001b[0;34m(image1, image2)\u001b[0m\n\u001b[1;32m     12\u001b[0m     \u001b[0;32mfor\u001b[0m \u001b[0mi\u001b[0m \u001b[0;32min\u001b[0m \u001b[0mrange\u001b[0m\u001b[0;34m(\u001b[0m\u001b[0mM1\u001b[0m\u001b[0;34m)\u001b[0m\u001b[0;34m:\u001b[0m\u001b[0;34m\u001b[0m\u001b[0;34m\u001b[0m\u001b[0m\n\u001b[1;32m     13\u001b[0m         \u001b[0;32mfor\u001b[0m \u001b[0mj\u001b[0m \u001b[0;32min\u001b[0m \u001b[0mrange\u001b[0m\u001b[0;34m(\u001b[0m\u001b[0mN1\u001b[0m\u001b[0;34m)\u001b[0m\u001b[0;34m:\u001b[0m\u001b[0;34m\u001b[0m\u001b[0;34m\u001b[0m\u001b[0m\n\u001b[0;32m---> 14\u001b[0;31m             \u001b[0mpadded_image\u001b[0m\u001b[0;34m[\u001b[0m\u001b[0mi\u001b[0m \u001b[0;34m+\u001b[0m \u001b[0mM2\u001b[0m\u001b[0;34m-\u001b[0m\u001b[0;36m1\u001b[0m\u001b[0;34m,\u001b[0m \u001b[0mj\u001b[0m \u001b[0;34m+\u001b[0m \u001b[0mN2\u001b[0m\u001b[0;34m-\u001b[0m\u001b[0;36m1\u001b[0m\u001b[0;34m]\u001b[0m \u001b[0;34m=\u001b[0m \u001b[0mimage1\u001b[0m\u001b[0;34m[\u001b[0m\u001b[0mi\u001b[0m\u001b[0;34m,\u001b[0m\u001b[0mj\u001b[0m\u001b[0;34m]\u001b[0m\u001b[0;34m\u001b[0m\u001b[0;34m\u001b[0m\u001b[0m\n\u001b[0m\u001b[1;32m     15\u001b[0m \u001b[0;34m\u001b[0m\u001b[0m\n\u001b[1;32m     16\u001b[0m     \u001b[0;32mfor\u001b[0m \u001b[0mi\u001b[0m \u001b[0;32min\u001b[0m \u001b[0mrange\u001b[0m\u001b[0;34m(\u001b[0m\u001b[0mM1\u001b[0m\u001b[0;34m)\u001b[0m\u001b[0;34m:\u001b[0m\u001b[0;34m\u001b[0m\u001b[0;34m\u001b[0m\u001b[0m\n",
      "\u001b[0;31mIndexError\u001b[0m: index 7 is out of bounds for axis 1 with size 7"
     ]
    }
   ],
   "source": [
    "def load_image(filepath, grayscale=True):\n",
    "    image = cv2.imread(filepath, cv2.IMREAD_GRAYSCALE if grayscale else cv2.IMREAD_COLOR)\n",
    "    return image\n",
    "def gaussian_kernel(size=9, sigma=2):\n",
    "    kernel_range = np.linspace(-(size // 2), size // 2, size)\n",
    "    \n",
    "    gauss_1d = np.exp(-0.5 * (kernel_range / sigma)**2)\n",
    "    gauss_1d = gauss_1d / np.sum(gauss_1d)  # Normalizar el kernel 1D\n",
    "    \n",
    "    # Generar el kernel 2D tomando el producto externo del kernel 1D\n",
    "    gauss_2d = np.outer(gauss_1d, gauss_1d)\n",
    "    \n",
    "    return gauss_2d\n",
    "\n",
    "def create_filter(filter_type, size=3):\n",
    "    if filter_type == \"mean\":\n",
    "        # Filtro de media (matriz promedio)\n",
    "        return np.ones((size, size)) / (size * size)\n",
    "    elif filter_type == \"gaussian\":\n",
    "        # Filtro gaussiano 3x3 o 9x9 (aproximación)\n",
    "        if size == 3:\n",
    "            return np.array([[1, 2, 1],\n",
    "                             [2, 4, 2],\n",
    "                             [1, 2, 1]]) / 16\n",
    "        elif size == 9:\n",
    "            return gaussian_kernel()\n",
    "    return None\n",
    "\n",
    "# Aplicar los filtros de convolución\n",
    "def apply_filter(image, filter_type, size=3):\n",
    "    if filter_type in [\"mean\", \"gaussian\"]:\n",
    "        # Aplicar filtro de media o gaussiano usando convolución 2D\n",
    "        kernel = create_filter(filter_type, size)\n",
    "        return convolution_2d(image,kernel)\n",
    "    elif filter_type == \"median\":\n",
    "        # Aplicar filtro de mediana usando scipy.ndimage\n",
    "        return median_filter(image, size=size)\n",
    "    elif filter_type == \"maximum\":\n",
    "        # Aplicar filtro de máximo usando scipy.ndimage\n",
    "        return maximum_filter(image, size=size)\n",
    "    elif filter_type == \"minimum\":\n",
    "        # Aplicar filtro de mínimo usando scipy.ndimage\n",
    "        return minimum_filter(image, size=size)\n",
    "    else:\n",
    "        raise ValueError(\"Tipo de filtro no soportado.\")\n",
    "\n",
    "# Mostrar las imágenes procesadas\n",
    "def plot_results(original, filtered_images, filter_names, size):\n",
    "    plt.figure(figsize=(15, 8))\n",
    "    plt.subplot(2, 4, 1)\n",
    "    plt.imshow(original, cmap='gray')\n",
    "    plt.title(\"Original\")\n",
    "    plt.axis('off')\n",
    "    \n",
    "    # Mostrar cada imagen filtrada\n",
    "    for i, (filtered, name) in enumerate(zip(filtered_images, filter_names)):\n",
    "        plt.subplot(2, 4, i + 2)\n",
    "        plt.imshow(filtered, cmap='gray')\n",
    "        plt.title(f\"{name} ({size}x{size})\")\n",
    "        plt.axis('off')\n",
    "    plt.show()\n",
    "\n",
    "\n",
    "# Cargar la imagen (puedes cambiar la ruta a tu imagen)\n",
    "image_path = 'cameraman.jpg'  # Cambiar a la ruta de tu imagen\n",
    "image = load_image(image_path)\n",
    "\n",
    "# Aplicar los filtros 3x3 y 9x9\n",
    "for size in [3, 9]:\n",
    "    # Aplicar cada uno de los filtros\n",
    "    mean_filtered = apply_filter(image, \"mean\", size=size)\n",
    "    gaussian_filtered = apply_filter(image, \"gaussian\", size=size)\n",
    "#         median_filtered = apply_filter(image, \"median\", size=size)\n",
    "#         maximum_filtered = apply_filter(image, \"maximum\", size=size)\n",
    "#         minimum_filtered = apply_filter(image, \"minimum\", size=size)\n",
    "\n",
    "    # Mostrar resultados\n",
    "    filtered_images = [mean_filtered, gaussian_filtered]\n",
    "    filter_names = [\"Media\", \"Gaussiano\", \"Mediana\", \"Máximo\", \"Mínimo\"]\n",
    "    plot_results(image, filtered_images, filter_names, size)"
   ]
  }
 ],
 "metadata": {
  "kernelspec": {
   "display_name": "Python 3 (ipykernel)",
   "language": "python",
   "name": "python3"
  },
  "language_info": {
   "codemirror_mode": {
    "name": "ipython",
    "version": 3
   },
   "file_extension": ".py",
   "mimetype": "text/x-python",
   "name": "python",
   "nbconvert_exporter": "python",
   "pygments_lexer": "ipython3",
   "version": "3.10.12"
  }
 },
 "nbformat": 4,
 "nbformat_minor": 5
}
