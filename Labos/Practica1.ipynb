{
 "cells": [
  {
   "cell_type": "code",
   "execution_count": 1,
   "id": "c13ae092",
   "metadata": {},
   "outputs": [],
   "source": [
    "import numpy as np \n",
    "import cv2\n",
    "import matplotlib.pyplot as plt"
   ]
  },
  {
   "cell_type": "markdown",
   "id": "0c5087a5",
   "metadata": {},
   "source": [
    "### Ej1:\n",
    "Dada una imagen y un valor entero: 2, 3 o 4 muestre la imagen obtenida de multiplicarla por alguno de esos valores."
   ]
  },
  {
   "cell_type": "code",
   "execution_count": 27,
   "id": "dd38641e-c590-40c2-9b86-d2cafa16e363",
   "metadata": {},
   "outputs": [
    {
     "name": "stdout",
     "output_type": "stream",
     "text": [
      "(1000, 683)\n",
      "255\n",
      "\n"
     ]
    }
   ],
   "source": [
    "ruta1 = 'Imagenes_para_contraste/asteroid.jpg'\n",
    "img = cv2.imread(ruta1,cv2.IMREAD_GRAYSCALE)\n",
    "if img is None: \n",
    "    print(\"Error ruta no valida\")\n",
    "    exit()\n",
    "print(img.shape)\n",
    "print(np.iinfo(img.dtype).max)\n",
    "print()"
   ]
  },
  {
   "cell_type": "code",
   "execution_count": 2,
   "id": "259d1a9b",
   "metadata": {},
   "outputs": [],
   "source": [
    "def f1(ruta:str, factor:int): \n",
    "    img = cv2.imread(ruta,cv2.IMREAD_GRAYSCALE)\n",
    "    if img is None: \n",
    "        print(\"Error ruta no valida\")\n",
    "        exit()\n",
    "    img_res = img * factor\n",
    "    cv2.imshow('Original',img)\n",
    "    cv2.imshow(f'Multiplicada por {factor}',img_res)\n",
    "    cv2.waitKey(0)\n",
    "    cv2.destroyAllWindows()"
   ]
  },
  {
   "cell_type": "code",
   "execution_count": 3,
   "id": "af7e453a-60d3-42e7-be14-db07b3541398",
   "metadata": {},
   "outputs": [
    {
     "name": "stderr",
     "output_type": "stream",
     "text": [
      "Warning: Ignoring XDG_SESSION_TYPE=wayland on Gnome. Use QT_QPA_PLATFORM=wayland to run on Wayland anyway.\n"
     ]
    }
   ],
   "source": [
    "ruta1 = 'Imagenes_para_contraste/asteroid.jpg'\n",
    "f1(ruta1,6)"
   ]
  },
  {
   "cell_type": "markdown",
   "id": "d3ab217d",
   "metadata": {},
   "source": [
    "### Ej2 \n",
    "Implementar una función que dada una imagen devuelva su negativo."
   ]
  },
  {
   "cell_type": "code",
   "execution_count": 4,
   "id": "59ae3b8c",
   "metadata": {},
   "outputs": [],
   "source": [
    "def f2(ruta:str): \n",
    "    img = cv2.imread(ruta,cv2.IMREAD_GRAYSCALE)\n",
    "    if img is None: \n",
    "        print(\"Error ruta no valida\")\n",
    "        exit()\n",
    "    negativo = np.iinfo(img.dtype).max - img\n",
    "    cv2.imshow(\"Negativo\",negativo)\n",
    "    cv2.waitKey(0)\n",
    "    cv2.destroyAllWindows()"
   ]
  },
  {
   "cell_type": "code",
   "execution_count": 5,
   "id": "bb806445",
   "metadata": {},
   "outputs": [],
   "source": [
    "f2(ruta1)"
   ]
  },
  {
   "cell_type": "markdown",
   "id": "b71237a0",
   "metadata": {},
   "source": [
    "# Ej3 \n",
    "Implementar una función que dada una imagen devuelva el histograma de niveles de gris."
   ]
  },
  {
   "cell_type": "code",
   "execution_count": 28,
   "id": "05c9f9c4",
   "metadata": {},
   "outputs": [],
   "source": [
    "def f3(ruta:str, mostrar:bool=False):\n",
    "    img = cv2.imread(ruta,cv2.IMREAD_GRAYSCALE)\n",
    "    if img is None: \n",
    "        print(\"Error ruta no valida\")\n",
    "        exit()\n",
    "    bins = np.iinfo(img.dtype).max+1 \n",
    "    X,Y = img.shape\n",
    "    histogram = np.zeros(bins)\n",
    "    for i in range(X):\n",
    "        for j in range(Y): \n",
    "            gris = img[i,j]\n",
    "            histogram[gris] += 1\n",
    "    if mostrar :\n",
    "        plt.plot(histogram, color='red')\n",
    "        plt.title('Histograma de Niveles de Gris')\n",
    "        plt.xlabel('Nivel de Gris')\n",
    "        plt.ylabel('Cantidad de Píxeles')\n",
    "        plt.xlim([0,bins-1])\n",
    "        plt.show()\n",
    "    return histogram"
   ]
  },
  {
   "cell_type": "code",
   "execution_count": 30,
   "id": "25f11003",
   "metadata": {
    "scrolled": true
   },
   "outputs": [
    {
     "data": {
      "image/png": "[encoded data removed]",
      "text/plain": [
       "<Figure size 432x288 with 1 Axes>"
      ]
     },
     "metadata": {
      "needs_background": "light"
     },
     "output_type": "display_data"
    },
    {
     "data": {
      "text/plain": [
       "(256,)"
      ]
     },
     "execution_count": 30,
     "metadata": {},
     "output_type": "execute_result"
    }
   ],
   "source": [
    "f3(ruta1,mostrar = True)"
   ]
  },
  {
   "cell_type": "markdown",
   "id": "062a28c9",
   "metadata": {},
   "source": [
    "### Ej4\n",
    "Examinando el histograma, implementar una función que devuelva una imagen que tenga aumento del contraste."
   ]
  },
  {
   "cell_type": "code",
   "execution_count": 7,
   "id": "99329e22",
   "metadata": {},
   "outputs": [],
   "source": [
    "def f4(ruta:str):\n",
    "    img = cv2.imread(ruta,cv2.IMREAD_GRAYSCALE)\n",
    "    if img is None: \n",
    "        print(\"Error ruta no valida\")\n",
    "        exit()\n",
    "    "
   ]
  },
  {
   "cell_type": "markdown",
   "id": "4bce0f3e",
   "metadata": {},
   "source": [
    "### Ej5\n",
    "Implementar una función que dada una imagen y un valor de umbral devuelva una imagen binarizada."
   ]
  },
  {
   "cell_type": "code",
   "execution_count": 8,
   "id": "3e84afd7",
   "metadata": {},
   "outputs": [],
   "source": [
    "def f5(ruta:str, umbral:int):\n",
    "    \"\"\"\n",
    "    Suponemos que umbral esta en rango correspondiente.\n",
    "    \"\"\"\n",
    "    img = cv2.imread(ruta,cv2.IMREAD_GRAYSCALE)\n",
    "    if img is None: \n",
    "        print(\"Error ruta no valida\")\n",
    "        exit()\n",
    "    bin_img = (img >= umbral) * (np.iinfo(np.iinfo(img.dtype)).max+1)\n",
    "    return bin_img"
   ]
  },
  {
   "cell_type": "markdown",
   "id": "ed7e8705",
   "metadata": {},
   "source": [
    "### Ej6 \n",
    "Implementar una función que dada una imagen muestre el histograma original y el histograma\n",
    "equalizado."
   ]
  },
  {
   "cell_type": "code",
   "execution_count": 9,
   "id": "db68930b-1db5-4560-b58f-f7cadddd1746",
   "metadata": {},
   "outputs": [],
   "source": [
    "arry = np.array([0,0.5,1,1])\n",
    "arrx = np.array([.25,.5,.75,1])\n",
    "\n",
    "def f(n,arry,arrx): \n",
    "    return np.argmax(arry-arrx[n]>=0)\n",
    "\n",
    "def salida(arx, ary):\n",
    "    res = np.ones(len(arx))\n",
    "    for i in range(len(arx)): \n",
    "        res[i] = np.argmax(ary-arx[i]>=0)\n",
    "    return res"
   ]
  },
  {
   "cell_type": "code",
   "execution_count": 10,
   "id": "979dfac4-a5fe-4f88-b4ad-38b2e8ab7603",
   "metadata": {},
   "outputs": [
    {
     "data": {
      "text/plain": [
       "[0.25, 0.5, 0.75, 1.0]"
      ]
     },
     "execution_count": 10,
     "metadata": {},
     "output_type": "execute_result"
    }
   ],
   "source": [
    "[(i+1)/4 for i in range(4)]"
   ]
  },
  {
   "cell_type": "code",
   "execution_count": 48,
   "id": "4d6b1324",
   "metadata": {},
   "outputs": [],
   "source": [
    "Y = [(i+1)/256 for i in range(255)] # cdf de una uniforme. \n",
    "def equalization2(arx,ary): \n",
    "    n = len(arx)\n",
    "    res = np.zeros(n)\n",
    "    for i in range(n): \n",
    "        res[i] = ary[np.argmax(ary-arx[i]>=0)]\n",
    "    \n",
    "    return res\n",
    "\n",
    "def equalization(cdf,l): \n",
    "    smin = cdf[0]\n",
    "    #hist_equ = zeros(len(cdf))\n",
    "    # for i in range(len(cdf)): \n",
    "    #     hist_equ[i] = \n",
    "    ss = np.floor((cdf-smin)/(1-smin) * l + 0.5).astype(int)\n",
    "    hist_equ = np.bincount(ss,minlength=l)\n",
    "    \n",
    "    return hist_equ\n",
    "\n",
    "def f6(ruta:str, mostrar:bool=False):\n",
    "    hist_original = f3(ruta)\n",
    "    img = cv2.imread(ruta,cv2.IMREAD_GRAYSCALE)\n",
    "    if img is None: \n",
    "        print(\"Error ruta no valida\")\n",
    "        exit()\n",
    "    bins = np.iinfo(img.dtype).max + 1\n",
    "    #N = img.size\n",
    "    cdf = hist_original.cumsum() / img.size\n",
    "    hist_equ = equalization(hist_original,bins-1)\n",
    "    #hist_equ = equalization2(cdf,Y)\n",
    "    #print(hist_original.size)\n",
    "    if mostrar :\n",
    "        plt.plot(hist_equ, color='red')\n",
    "        plt.title('Histograma de Niveles de Gris')\n",
    "        plt.xlabel('Nivel de Gris')\n",
    "        plt.ylabel('Cantidad de Píxeles')\n",
    "        plt.xlim([0,bins-1])\n",
    "        plt.show()\n",
    "    return hist_equ"
   ]
  },
  {
   "cell_type": "code",
   "execution_count": 23,
   "id": "ed7ba0eb-1e3d-469e-8456-c821a06a7241",
   "metadata": {},
   "outputs": [
    {
     "data": {
      "image/png": "[encoded data removed]",
      "text/plain": [
       "<Figure size 720x360 with 2 Axes>"
      ]
     },
     "metadata": {
      "needs_background": "light"
     },
     "output_type": "display_data"
    }
   ],
   "source": [
    "img = cv2.imread(ruta1,cv2.IMREAD_GRAYSCALE)\n",
    "img_equalizada = cv2.equalizeHist(img)\n",
    "\n",
    "# Calcular el histograma original y el ecualizado\n",
    "hist_original = cv2.calcHist([img], [0], None, [256], [0, 256])\n",
    "hist_equalizado = cv2.calcHist([img_equalizada], [0], None, [256], [0, 256])\n",
    "\n",
    "# Mostrar los histogramas\n",
    "plt.figure(figsize=(10,5))\n",
    "\n",
    "plt.subplot(1, 2, 1)\n",
    "plt.plot(hist_original, color='red')\n",
    "plt.title('Histograma Original')\n",
    "plt.xlabel('Nivel de Gris')\n",
    "plt.ylabel('Cantidad de Píxeles')\n",
    "plt.xlim([0, 256])\n",
    "\n",
    "plt.subplot(1, 2, 2)\n",
    "plt.plot(hist_equalizado, color='red')\n",
    "plt.title('Histograma Ecualizado')\n",
    "plt.xlabel('Nivel de Gris')\n",
    "plt.ylabel('Cantidad de Píxeles')\n",
    "plt.xlim([0, 256])\n",
    "\n",
    "plt.tight_layout()\n",
    "plt.show()"
   ]
  },
  {
   "cell_type": "code",
   "execution_count": 49,
   "id": "f5a02a9d",
   "metadata": {
    "scrolled": true
   },
   "outputs": [
    {
     "data": {
      "image/png": "[encoded data removed]",
      "text/plain": [
       "<Figure size 432x288 with 1 Axes>"
      ]
     },
     "metadata": {
      "needs_background": "light"
     },
     "output_type": "display_data"
    },
    {
     "data": {
      "text/plain": [
       "array([  1,   0,   0,   0,   0,   0,   0,   0,   0,   0,   0,   0,   0,\n",
       "         0,   0,   0,   0,   0,   0,   0,   0,   0,   0,   0,   0,   0,\n",
       "         0,   0,   0,   0,   0,   0,   0,   0,   0,   0,   0,   0,   0,\n",
       "         0,   0,   0,   0,   0,   0,   0,   0,   0,   0,   0,   0,   0,\n",
       "         0,   0,   0,   0,   0,   0,   0,   0,   0,   0,   0,   0,   0,\n",
       "         0,   0,   0,   0,   0,   0,   0,   0,   0,   0,   0,   0,   0,\n",
       "         0,   0,   0,   0,   0,   0,   0,   0,   0,   0,   0,   0,   0,\n",
       "         0,   0,   0,   0,   0,   0,   0,   0,   0,   0,   0,   0,   0,\n",
       "         0,   0,   0,   0,   0,   0,   0,   0,   0,   0,   0,   0,   0,\n",
       "         0,   0,   0,   0,   0,   0,   0,   0,   0,   0,   0,   0,   0,\n",
       "         0,   0,   0,   0,   0,   0,   0,   0,   0,   0,   0,   0,   0,\n",
       "         0,   0,   0,   0,   0,   0,   0,   0,   0,   0,   0,   0,   0,\n",
       "         0,   0,   0,   0,   0,   0,   0,   0,   0,   0,   0,   0,   0,\n",
       "         0,   0,   0,   0,   0,   0,   0,   0,   0,   0,   0,   0,   0,\n",
       "         0,   0,   0,   0,   0,   0,   0,   0,   0,   0,   0,   0,   0,\n",
       "         0,   0,   0,   0,   0,   0,   0,   0,   0,   0,   0,   0,   0,\n",
       "         0,   0,   0,   0,   0,   0,   0,   0,   0,   0,   0,   0,   0,\n",
       "         0,   0,   0,   0,   0,   0,   0,   0,   0,   0,   0,   0,   0,\n",
       "         0,   0,   0,   0,   1,   0,   0,   1,   0,   0,   1,   1,   2,\n",
       "         1,   0,   1,   1,   2,   3,   7,  75, 159])"
      ]
     },
     "execution_count": 49,
     "metadata": {},
     "output_type": "execute_result"
    }
   ],
   "source": [
    "f6(ruta1,mostrar=True)\n",
    "#f3(ruta1,mostrar=True)\n",
    "#len(Y)"
   ]
  },
  {
   "cell_type": "markdown",
   "id": "b5075dee-9d35-4d15-9822-cd354c4b12fe",
   "metadata": {},
   "source": [
    "### Ej7 \n",
    "Dada una imagen a la cual se le ecualizo su histograma, aplicar la ecualizacion del histograma por segunda vez a la misma imagen. Observar el resultado y dar una explicacion de lo sucedido."
   ]
  },
  {
   "cell_type": "code",
   "execution_count": 27,
   "id": "28242417-5f88-4795-a198-e013cac74359",
   "metadata": {},
   "outputs": [],
   "source": [
    "def f7(ruta:str, mostrar:bool= False): \n",
    "    img = cv2.imread(ruta,cv2.IMREAD_GRAYSCALE)\n",
    "    if img is None: \n",
    "        print(\"Error ruta no valida\")\n",
    "        exit()\n",
    "    max_val = np.iinfo(img.dtype).max   \n",
    "    histogram = f3(ruta)\n",
    "    # primera equalizacion \n",
    "    hist_equ = equalization(histogram,max_val,img.size)\n",
    "    # segunda equalization\n",
    "    hist2_equa = equalization(hist_equ,max_val,img.size)\n",
    "    if mostrar :\n",
    "        plt.plot(hist2_equa, color='red')\n",
    "        plt.title('Histograma de Niveles de Gris')\n",
    "        plt.xlabel('Nivel de Gris')\n",
    "        plt.ylabel('Cantidad de Píxeles')\n",
    "        plt.xlim([0,max_val])\n",
    "        plt.show()\n",
    "    return hist2_equa"
   ]
  },
  {
   "cell_type": "code",
   "execution_count": 28,
   "id": "1bd8bfa7-7fed-48a1-a2b6-32ae4c7f8ed9",
   "metadata": {
    "scrolled": true
   },
   "outputs": [
    {
     "data": {
      "image/png": "[encoded data removed]",
      "text/plain": [
       "<Figure size 432x288 with 1 Axes>"
      ]
     },
     "metadata": {
      "needs_background": "light"
     },
     "output_type": "display_data"
    },
    {
     "data": {
      "text/plain": [
       "array([ 0.,  1.,  1.,  1.,  1.,  1.,  1.,  1.,  1.,  1.,  1.,  1.,  1.,\n",
       "        1.,  1.,  1.,  1.,  1.,  1.,  1.,  1.,  1.,  1.,  1.,  1.,  2.,\n",
       "        2.,  2.,  2.,  2.,  2.,  2.,  2.,  2.,  2.,  2.,  2.,  2.,  2.,\n",
       "        2.,  2.,  2.,  2.,  3.,  3.,  3.,  3.,  3.,  3.,  3.,  3.,  3.,\n",
       "        3.,  3.,  3.,  3.,  3.,  3.,  3.,  4.,  4.,  4.,  4.,  4.,  4.,\n",
       "        4.,  4.,  4.,  4.,  4.,  4.,  4.,  4.,  4.,  5.,  5.,  5.,  5.,\n",
       "        5.,  5.,  5.,  5.,  5.,  5.,  5.,  5.,  5.,  5.,  5.,  6.,  6.,\n",
       "        6.,  6.,  6.,  6.,  6.,  6.,  6.,  6.,  6.,  6.,  6.,  6.,  6.,\n",
       "        7.,  7.,  7.,  7.,  7.,  7.,  7.,  7.,  7.,  7.,  7.,  7.,  7.,\n",
       "        7.,  7.,  8.,  8.,  8.,  8.,  8.,  8.,  8.,  8.,  8.,  8.,  8.,\n",
       "        8.,  8.,  8.,  9.,  9.,  9.,  9.,  9.,  9.,  9.,  9.,  9.,  9.,\n",
       "        9.,  9.,  9.,  9.,  9., 10., 10., 10., 10., 10., 10., 10., 10.,\n",
       "       10., 10., 10., 10., 10., 10., 11., 11., 11., 11., 11., 11., 11.,\n",
       "       11., 11., 11., 11., 11., 11., 11., 12., 12., 12., 12., 12., 12.,\n",
       "       12., 12., 12., 12., 12., 12., 12., 13., 13., 13., 13., 13., 13.,\n",
       "       13., 13., 13., 13., 13., 13., 13., 14., 14., 14., 14., 14., 14.,\n",
       "       14., 14., 14., 14., 14., 14., 15., 15., 15., 15., 15., 15., 15.,\n",
       "       15., 15., 15., 15., 15., 16., 16., 16., 16., 16., 16., 16., 16.,\n",
       "       16., 16., 16., 17., 17., 17., 17., 17., 17., 17., 17., 17., 17.,\n",
       "       18., 18., 18., 18., 18., 18., 18., 18.])"
      ]
     },
     "execution_count": 28,
     "metadata": {},
     "output_type": "execute_result"
    }
   ],
   "source": [
    "f7(ruta1,mostrar=True)"
   ]
  },
  {
   "cell_type": "markdown",
   "id": "b9e8a85a-3a35-45dd-a3cd-4e15df85bea8",
   "metadata": {},
   "source": [
    "### Ej8 "
   ]
  },
  {
   "cell_type": "code",
   "execution_count": 135,
   "id": "76dc0c9e-2348-4a0a-9ae7-38315da477a1",
   "metadata": {},
   "outputs": [
    {
     "data": {
      "text/plain": [
       "683000"
      ]
     },
     "execution_count": 135,
     "metadata": {},
     "output_type": "execute_result"
    }
   ],
   "source": [
    "img = cv2.imread(ruta1,cv2.IMREAD_GRAYSCALE)\n",
    "img.size"
   ]
  }
 ],
 "metadata": {
  "kernelspec": {
   "display_name": "Python 3 (ipykernel)",
   "language": "python",
   "name": "python3"
  },
  "language_info": {
   "codemirror_mode": {
    "name": "ipython",
    "version": 3
   },
   "file_extension": ".py",
   "mimetype": "text/x-python",
   "name": "python",
   "nbconvert_exporter": "python",
   "pygments_lexer": "ipython3",
   "version": "3.10.12"
  }
 },
 "nbformat": 4,
 "nbformat_minor": 5
}
