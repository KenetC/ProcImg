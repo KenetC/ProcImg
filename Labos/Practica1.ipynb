{
 "cells": [
  {
   "cell_type": "code",
   "execution_count": 18,
   "id": "c13ae092",
   "metadata": {},
   "outputs": [],
   "source": [
    "import numpy as np \n",
    "import cv2\n",
    "import matplotlib.pyplot as plt"
   ]
  },
  {
   "cell_type": "markdown",
   "id": "0c5087a5",
   "metadata": {},
   "source": [
    "### Ej1:\n",
    "Dada una imagen y un valor entero: 2, 3 o 4 muestre la imagen obtenida de multiplicarla por alguno de esos valores."
   ]
  },
  {
   "cell_type": "code",
   "execution_count": 3,
   "id": "259d1a9b",
   "metadata": {},
   "outputs": [],
   "source": [
    "def f1(ruta:str, factor:int): \n",
    "    img = cv2.imread(ruta,cv2.IMREAD_GRAYSCALE)\n",
    "    if img is None: \n",
    "        print(\"Error ruta no valida\")\n",
    "        exit()\n",
    "    img_res = img * factor\n",
    "    cv2.imshow('Original',img)\n",
    "    cv2.imshow(f'Multiplicada por {factor}',img_res)\n",
    "    cv2.waitKey(0)\n",
    "    cv2.destroyAllWindows()"
   ]
  },
  {
   "cell_type": "code",
   "execution_count": 4,
   "id": "e63f3c1a",
   "metadata": {},
   "outputs": [],
   "source": [
    "ruta1 = 'Imagenes_para_contraste/asteroid.jpg'\n",
    "f1(ruta1,3)"
   ]
  },
  {
   "cell_type": "markdown",
   "id": "d3ab217d",
   "metadata": {},
   "source": [
    "### Ej2 \n",
    "Implementar una función que dada una imagen devuelva su negativo."
   ]
  },
  {
   "cell_type": "code",
   "execution_count": 17,
   "id": "59ae3b8c",
   "metadata": {},
   "outputs": [],
   "source": [
    "def f2(ruta:str): \n",
    "    img = cv2.imread(ruta,cv2.IMREAD_GRAYSCALE)\n",
    "    if img is None: \n",
    "        print(\"Error ruta no valida\")\n",
    "        exit()\n",
    "    negativo = np.iinfo(img.dtype).max - img\n",
    "    cv2.imshow(\"Negativo\",negativo)\n",
    "    cv2.waitKey(0)\n",
    "    cv2.destroyAllWindows()"
   ]
  },
  {
   "cell_type": "code",
   "execution_count": 16,
   "id": "bb806445",
   "metadata": {},
   "outputs": [],
   "source": [
    "f2(ruta1)"
   ]
  },
  {
   "cell_type": "markdown",
   "id": "b71237a0",
   "metadata": {},
   "source": [
    "# Ej3 \n",
    "Implementar una función que dada una imagen devuelva el histograma de niveles de gris."
   ]
  },
  {
   "cell_type": "code",
   "execution_count": 46,
   "id": "05c9f9c4",
   "metadata": {},
   "outputs": [],
   "source": [
    "def f3(ruta:str, mostrar:bool=False):\n",
    "    img = cv2.imread(ruta,cv2.IMREAD_GRAYSCALE)\n",
    "    if img is None: \n",
    "        print(\"Error ruta no valida\")\n",
    "        exit()\n",
    "    max_val = np.iinfo(img.dtype).max    \n",
    "    histogram, _ = np.histogram(img,bins=np.arange(max_val+1))\n",
    "    if mostrar :\n",
    "        plt.plot(histogram, color='red')\n",
    "        plt.title('Histograma de Niveles de Gris')\n",
    "        plt.xlabel('Nivel de Gris')\n",
    "        plt.ylabel('Cantidad de Píxeles')\n",
    "        plt.xlim([0,max_val])\n",
    "        plt.show()\n",
    "    return histogram"
   ]
  },
  {
   "cell_type": "code",
   "execution_count": 48,
   "id": "25f11003",
   "metadata": {
    "scrolled": true
   },
   "outputs": [
    {
     "data": {
      "image/png": "[encoded data removed]",
      "text/plain": [
       "<Figure size 432x288 with 1 Axes>"
      ]
     },
     "metadata": {
      "needs_background": "light"
     },
     "output_type": "display_data"
    },
    {
     "data": {
      "text/plain": [
       "array([367460,  14849,  24799,  19518,  15320,  13035,  12791,  12103,\n",
       "         9195,   7453,   6260,   5440,   4662,   4176,   3763,   3417,\n",
       "         3140,   2982,   2635,   2559,   2274,   2025,   1895,   1876,\n",
       "         1718,   1581,   1505,   1478,   1399,   1367,   1288,   1233,\n",
       "         1158,   1111,   1061,   1011,   1033,    869,    800,    829,\n",
       "          834,    823,    802,    781,    775,    795,    721,    742,\n",
       "          739,    712,    722,    703,    661,    633,    649,    637,\n",
       "          604,    597,    559,    577,    599,    484,    467,    464,\n",
       "          519,    450,    455,    452,    411,    391,    442,    401,\n",
       "          403,    371,    331,    356,    378,    405,    353,    373,\n",
       "          330,    342,    310,    303,    342,    313,    325,    290,\n",
       "          274,    285,    259,    253,    254,    252,    255,    243,\n",
       "          248,    261,    256,    274,    236,    227,    214,    209,\n",
       "          219,    208,    174,    189,    195,    184,    195,    201,\n",
       "          216,    197,    189,    175,    179,    199,    147,    179,\n",
       "          173,    196,    215,    174,    183,    175,    172,    195,\n",
       "          191,    187,    169,    179,    169,    171,    168,    197,\n",
       "          189,    200,    190,    180,    182,    161,    194,    163,\n",
       "          194,    181,    179,    197,    217,    213,    195,    197,\n",
       "          197,    194,    200,    211,    205,    226,    211,    224,\n",
       "          244,    237,    230,    230,    244,    232,    232,    222,\n",
       "          237,    239,    247,    232,    274,    238,    252,    272,\n",
       "          280,    288,    304,    274,    303,    312,    330,    344,\n",
       "          340,    406,    471,    607,    800,    965,   1227,   1286,\n",
       "         1523,   1587,   1611,   1680,   1643,   1656,   1556,   1626,\n",
       "         1788,   1723,   1787,   1651,   1747,   1746,   1579,   1567,\n",
       "         1362,   1315,   1237,   1238,   1125,   1115,   1058,   1065,\n",
       "         1061,   1042,   1049,   1072,   1018,    968,   1062,   1150,\n",
       "         1142,   1084,   1063,   1037,    960,    948,    905,    782,\n",
       "          814,    767,    739,    689,    633,    590,    567,    570,\n",
       "          568,    557,    511,    529,    466,    484,    468,    455,\n",
       "          473,    501,    420,    421,    484,    571,   3142])"
      ]
     },
     "execution_count": 48,
     "metadata": {},
     "output_type": "execute_result"
    }
   ],
   "source": [
    "f3(ruta1,mostrar = True)"
   ]
  },
  {
   "cell_type": "markdown",
   "id": "062a28c9",
   "metadata": {},
   "source": [
    "### Ej4\n",
    "Examinando el histograma, implementar una función que devuelva una imagen que tenga aumento del contraste."
   ]
  },
  {
   "cell_type": "code",
   "execution_count": null,
   "id": "99329e22",
   "metadata": {},
   "outputs": [],
   "source": [
    "def f4():"
   ]
  },
  {
   "cell_type": "markdown",
   "id": "4bce0f3e",
   "metadata": {},
   "source": [
    "### Ej5\n",
    "Implementar una función que dada una imagen y un valor de umbral devuelva una imagen binarizada."
   ]
  },
  {
   "cell_type": "code",
   "execution_count": 49,
   "id": "3e84afd7",
   "metadata": {},
   "outputs": [],
   "source": [
    "def f5(ruta:str, umbral:int):\n",
    "    \"\"\"\n",
    "    Suponemos que umbral esta en rango correspondiente.\n",
    "    \"\"\"\n",
    "    img = cv2.imread(ruta,cv2.IMREAD_GRAYSCALE)\n",
    "    if img is None: \n",
    "        print(\"Error ruta no valida\")\n",
    "        exit()\n",
    "    bin_img = (img >= umbral) * (np.iinfo(np.iinfo(img.dtype)).max+1)\n",
    "    return in_img"
   ]
  },
  {
   "cell_type": "markdown",
   "id": "ed7e8705",
   "metadata": {},
   "source": [
    "### Ej6 \n",
    "Implementar una función que dada una imagen muestre el histograma original y el histograma\n",
    "equalizado."
   ]
  },
  {
   "cell_type": "code",
   "execution_count": 85,
   "id": "4d6b1324",
   "metadata": {},
   "outputs": [],
   "source": [
    "def f6(ruta:str, mostrar:bool=False):\n",
    "    hist_original = f3(ruta)\n",
    "    img = cv2.imread(ruta,cv2.IMREAD_GRAYSCALE)\n",
    "    cdf = hist_original.cumsum() / img.size\n",
    "    max_val = np.iinfo(img.dtype).max   \n",
    "    smin = cdf[0]\n",
    "    hist_equ = np.round((cdf-smin)/(1-smin) * max_val + 0.5)\n",
    "    if mostrar :\n",
    "        plt.plot(hist_equ, color='red')\n",
    "        plt.title('Histograma de Niveles de Gris')\n",
    "        plt.xlabel('Nivel de Gris')\n",
    "        plt.ylabel('Cantidad de Píxeles')\n",
    "        plt.xlim([0,max_val])\n",
    "        plt.show()\n",
    "    return hist_equ"
   ]
  },
  {
   "cell_type": "code",
   "execution_count": 86,
   "id": "f5a02a9d",
   "metadata": {
    "scrolled": true
   },
   "outputs": [
    {
     "data": {
      "image/png": "[encoded data removed]",
      "text/plain": [
       "<Figure size 432x288 with 1 Axes>"
      ]
     },
     "metadata": {
      "needs_background": "light"
     },
     "output_type": "display_data"
    },
    {
     "data": {
      "text/plain": [
       "array([  0.,  13.,  33.,  48.,  61.,  71.,  82.,  91.,  99., 105., 110.,\n",
       "       114., 118., 121., 124., 127., 130., 132., 134., 136., 138., 140.,\n",
       "       141., 143., 144., 146., 147., 148., 149., 150., 151., 152., 153.,\n",
       "       154., 155., 156., 157., 157., 158., 159., 159., 160., 161., 161.,\n",
       "       162., 162., 163., 164., 164., 165., 165., 166., 167., 167., 168.,\n",
       "       168., 169., 169., 169., 170., 170., 171., 171., 172., 172., 172.,\n",
       "       173., 173., 173., 174., 174., 174., 175., 175., 175., 176., 176.,\n",
       "       176., 177., 177., 177., 177., 178., 178., 178., 178., 179., 179.,\n",
       "       179., 179., 180., 180., 180., 180., 180., 181., 181., 181., 181.,\n",
       "       181., 182., 182., 182., 182., 182., 182., 183., 183., 183., 183.,\n",
       "       183., 183., 184., 184., 184., 184., 184., 184., 184., 185., 185.,\n",
       "       185., 185., 185., 185., 185., 186., 186., 186., 186., 186., 186.,\n",
       "       186., 187., 187., 187., 187., 187., 187., 188., 188., 188., 188.,\n",
       "       188., 188., 188., 189., 189., 189., 189., 189., 189., 190., 190.,\n",
       "       190., 190., 190., 190., 191., 191., 191., 191., 191., 191., 192.,\n",
       "       192., 192., 192., 192., 193., 193., 193., 193., 193., 194., 194.,\n",
       "       194., 194., 195., 195., 195., 195., 196., 196., 196., 196., 197.,\n",
       "       197., 198., 199., 200., 201., 202., 203., 205., 206., 207., 209.,\n",
       "       210., 211., 213., 214., 215., 217., 218., 220., 221., 222., 223.,\n",
       "       224., 225., 226., 227., 228., 229., 230., 231., 232., 232., 233.,\n",
       "       234., 235., 236., 237., 238., 238., 239., 240., 241., 242., 242.,\n",
       "       243., 244., 244., 245., 245., 246., 246., 247., 247., 248., 248.,\n",
       "       249., 249., 250., 250., 250., 251., 251., 251., 252., 252., 252.,\n",
       "       253., 256.])"
      ]
     },
     "execution_count": 86,
     "metadata": {},
     "output_type": "execute_result"
    }
   ],
   "source": [
    "f6(ruta1,mostrar=True)"
   ]
  }
 ],
 "metadata": {
  "kernelspec": {
   "display_name": "Python 3 (ipykernel)",
   "language": "python",
   "name": "python3"
  },
  "language_info": {
   "codemirror_mode": {
    "name": "ipython",
    "version": 3
   },
   "file_extension": ".py",
   "mimetype": "text/x-python",
   "name": "python",
   "nbconvert_exporter": "python",
   "pygments_lexer": "ipython3",
   "version": "3.10.12"
  }
 },
 "nbformat": 4,
 "nbformat_minor": 5
}
