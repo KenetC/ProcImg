{
 "cells": [
  {
   "cell_type": "markdown",
   "id": "e20b62e9",
   "metadata": {},
   "source": [
    "# Primera Practica"
   ]
  },
  {
   "cell_type": "code",
   "execution_count": 2,
   "id": "c13ae092",
   "metadata": {},
   "outputs": [],
   "source": [
    "import numpy as np \n",
    "import cv2\n",
    "import matplotlib.pyplot as plt"
   ]
  },
  {
   "cell_type": "code",
   "execution_count": 1,
   "id": "bae904a5",
   "metadata": {},
   "outputs": [],
   "source": [
    "ruta1 = 'Imagenes_para_contraste/asteroid.jpg'\n",
    "ruta2 = 'Imagenes_para_contraste/niebla0.png'"
   ]
  },
  {
   "cell_type": "markdown",
   "id": "0c5087a5",
   "metadata": {},
   "source": [
    "### Ej1:\n",
    "Dada una imagen y un valor entero: 2, 3 o 4 muestre la imagen obtenida de multiplicarla por alguno de esos valores."
   ]
  },
  {
   "cell_type": "code",
   "execution_count": 3,
   "id": "259d1a9b",
   "metadata": {},
   "outputs": [],
   "source": [
    "def f1(ruta:str, factor:int): \n",
    "    img = cv2.imread(ruta,cv2.IMREAD_GRAYSCALE)\n",
    "    if img is None: \n",
    "        print(\"Error ruta no valida\")\n",
    "        exit()\n",
    "    img_res = img * factor\n",
    "    cv2.imshow('Original',img)\n",
    "    cv2.imshow(f'Multiplicada por {factor}',img_res)\n",
    "    cv2.waitKey(0)\n",
    "    cv2.destroyAllWindows()"
   ]
  },
  {
   "cell_type": "code",
   "execution_count": 58,
   "id": "af7e453a-60d3-42e7-be14-db07b3541398",
   "metadata": {},
   "outputs": [],
   "source": [
    "f1(ruta1,6)"
   ]
  },
  {
   "cell_type": "markdown",
   "id": "d3ab217d",
   "metadata": {},
   "source": [
    "### Ej2 \n",
    "Implementar una función que dada una imagen devuelva su negativo."
   ]
  },
  {
   "cell_type": "code",
   "execution_count": 4,
   "id": "59ae3b8c",
   "metadata": {},
   "outputs": [],
   "source": [
    "def f2(ruta:str): \n",
    "    img = cv2.imread(ruta,cv2.IMREAD_GRAYSCALE)\n",
    "    if img is None: \n",
    "        print(\"Error ruta no valida\")\n",
    "        exit()\n",
    "    negativo = np.iinfo(img.dtype).max - img\n",
    "    cv2.imshow(\"Negativo\",negativo)\n",
    "    cv2.waitKey(0)\n",
    "    cv2.destroyAllWindows()"
   ]
  },
  {
   "cell_type": "code",
   "execution_count": 38,
   "id": "bb806445",
   "metadata": {},
   "outputs": [],
   "source": [
    "f2(ruta1)"
   ]
  },
  {
   "cell_type": "markdown",
   "id": "b71237a0",
   "metadata": {},
   "source": [
    "# Ej3 \n",
    "Implementar una función que dada una imagen devuelva el histograma de niveles de gris."
   ]
  },
  {
   "cell_type": "code",
   "execution_count": 5,
   "id": "05c9f9c4",
   "metadata": {},
   "outputs": [],
   "source": [
    "def f3(ruta:str, mostrar:bool=False):\n",
    "    img = cv2.imread(ruta,cv2.IMREAD_GRAYSCALE)\n",
    "    if img is None: \n",
    "        print(\"Error ruta no valida\")\n",
    "        exit()\n",
    "    bins = np.iinfo(img.dtype).max+1 \n",
    "    X,Y = img.shape\n",
    "    histogram = np.zeros(bins)\n",
    "    for i in range(X):\n",
    "        for j in range(Y): \n",
    "            gris = img[i,j]\n",
    "            histogram[gris] += 1\n",
    "    if mostrar :\n",
    "        plt.plot(histogram, color='red')\n",
    "        plt.title('Histograma de Niveles de Gris')\n",
    "        plt.xlabel('Nivel de Gris')\n",
    "        plt.ylabel('Cantidad de Píxeles')\n",
    "        plt.xlim([0,bins-1])\n",
    "        plt.show()\n",
    "    return histogram"
   ]
  },
  {
   "cell_type": "code",
   "execution_count": 40,
   "id": "25f11003",
   "metadata": {
    "scrolled": true
   },
   "outputs": [
    {
     "data": {
      "image/png": "[encoded data removed]",
      "text/plain": [
       "<Figure size 432x288 with 1 Axes>"
      ]
     },
     "metadata": {
      "needs_background": "light"
     },
     "output_type": "display_data"
    },
    {
     "data": {
      "text/plain": [
       "array([3.6746e+05, 1.4849e+04, 2.4799e+04, 1.9518e+04, 1.5320e+04,\n",
       "       1.3035e+04, 1.2791e+04, 1.2103e+04, 9.1950e+03, 7.4530e+03,\n",
       "       6.2600e+03, 5.4400e+03, 4.6620e+03, 4.1760e+03, 3.7630e+03,\n",
       "       3.4170e+03, 3.1400e+03, 2.9820e+03, 2.6350e+03, 2.5590e+03,\n",
       "       2.2740e+03, 2.0250e+03, 1.8950e+03, 1.8760e+03, 1.7180e+03,\n",
       "       1.5810e+03, 1.5050e+03, 1.4780e+03, 1.3990e+03, 1.3670e+03,\n",
       "       1.2880e+03, 1.2330e+03, 1.1580e+03, 1.1110e+03, 1.0610e+03,\n",
       "       1.0110e+03, 1.0330e+03, 8.6900e+02, 8.0000e+02, 8.2900e+02,\n",
       "       8.3400e+02, 8.2300e+02, 8.0200e+02, 7.8100e+02, 7.7500e+02,\n",
       "       7.9500e+02, 7.2100e+02, 7.4200e+02, 7.3900e+02, 7.1200e+02,\n",
       "       7.2200e+02, 7.0300e+02, 6.6100e+02, 6.3300e+02, 6.4900e+02,\n",
       "       6.3700e+02, 6.0400e+02, 5.9700e+02, 5.5900e+02, 5.7700e+02,\n",
       "       5.9900e+02, 4.8400e+02, 4.6700e+02, 4.6400e+02, 5.1900e+02,\n",
       "       4.5000e+02, 4.5500e+02, 4.5200e+02, 4.1100e+02, 3.9100e+02,\n",
       "       4.4200e+02, 4.0100e+02, 4.0300e+02, 3.7100e+02, 3.3100e+02,\n",
       "       3.5600e+02, 3.7800e+02, 4.0500e+02, 3.5300e+02, 3.7300e+02,\n",
       "       3.3000e+02, 3.4200e+02, 3.1000e+02, 3.0300e+02, 3.4200e+02,\n",
       "       3.1300e+02, 3.2500e+02, 2.9000e+02, 2.7400e+02, 2.8500e+02,\n",
       "       2.5900e+02, 2.5300e+02, 2.5400e+02, 2.5200e+02, 2.5500e+02,\n",
       "       2.4300e+02, 2.4800e+02, 2.6100e+02, 2.5600e+02, 2.7400e+02,\n",
       "       2.3600e+02, 2.2700e+02, 2.1400e+02, 2.0900e+02, 2.1900e+02,\n",
       "       2.0800e+02, 1.7400e+02, 1.8900e+02, 1.9500e+02, 1.8400e+02,\n",
       "       1.9500e+02, 2.0100e+02, 2.1600e+02, 1.9700e+02, 1.8900e+02,\n",
       "       1.7500e+02, 1.7900e+02, 1.9900e+02, 1.4700e+02, 1.7900e+02,\n",
       "       1.7300e+02, 1.9600e+02, 2.1500e+02, 1.7400e+02, 1.8300e+02,\n",
       "       1.7500e+02, 1.7200e+02, 1.9500e+02, 1.9100e+02, 1.8700e+02,\n",
       "       1.6900e+02, 1.7900e+02, 1.6900e+02, 1.7100e+02, 1.6800e+02,\n",
       "       1.9700e+02, 1.8900e+02, 2.0000e+02, 1.9000e+02, 1.8000e+02,\n",
       "       1.8200e+02, 1.6100e+02, 1.9400e+02, 1.6300e+02, 1.9400e+02,\n",
       "       1.8100e+02, 1.7900e+02, 1.9700e+02, 2.1700e+02, 2.1300e+02,\n",
       "       1.9500e+02, 1.9700e+02, 1.9700e+02, 1.9400e+02, 2.0000e+02,\n",
       "       2.1100e+02, 2.0500e+02, 2.2600e+02, 2.1100e+02, 2.2400e+02,\n",
       "       2.4400e+02, 2.3700e+02, 2.3000e+02, 2.3000e+02, 2.4400e+02,\n",
       "       2.3200e+02, 2.3200e+02, 2.2200e+02, 2.3700e+02, 2.3900e+02,\n",
       "       2.4700e+02, 2.3200e+02, 2.7400e+02, 2.3800e+02, 2.5200e+02,\n",
       "       2.7200e+02, 2.8000e+02, 2.8800e+02, 3.0400e+02, 2.7400e+02,\n",
       "       3.0300e+02, 3.1200e+02, 3.3000e+02, 3.4400e+02, 3.4000e+02,\n",
       "       4.0600e+02, 4.7100e+02, 6.0700e+02, 8.0000e+02, 9.6500e+02,\n",
       "       1.2270e+03, 1.2860e+03, 1.5230e+03, 1.5870e+03, 1.6110e+03,\n",
       "       1.6800e+03, 1.6430e+03, 1.6560e+03, 1.5560e+03, 1.6260e+03,\n",
       "       1.7880e+03, 1.7230e+03, 1.7870e+03, 1.6510e+03, 1.7470e+03,\n",
       "       1.7460e+03, 1.5790e+03, 1.5670e+03, 1.3620e+03, 1.3150e+03,\n",
       "       1.2370e+03, 1.2380e+03, 1.1250e+03, 1.1150e+03, 1.0580e+03,\n",
       "       1.0650e+03, 1.0610e+03, 1.0420e+03, 1.0490e+03, 1.0720e+03,\n",
       "       1.0180e+03, 9.6800e+02, 1.0620e+03, 1.1500e+03, 1.1420e+03,\n",
       "       1.0840e+03, 1.0630e+03, 1.0370e+03, 9.6000e+02, 9.4800e+02,\n",
       "       9.0500e+02, 7.8200e+02, 8.1400e+02, 7.6700e+02, 7.3900e+02,\n",
       "       6.8900e+02, 6.3300e+02, 5.9000e+02, 5.6700e+02, 5.7000e+02,\n",
       "       5.6800e+02, 5.5700e+02, 5.1100e+02, 5.2900e+02, 4.6600e+02,\n",
       "       4.8400e+02, 4.6800e+02, 4.5500e+02, 4.7300e+02, 5.0100e+02,\n",
       "       4.2000e+02, 4.2100e+02, 4.8400e+02, 5.7100e+02, 5.4200e+02,\n",
       "       2.6000e+03])"
      ]
     },
     "execution_count": 40,
     "metadata": {},
     "output_type": "execute_result"
    }
   ],
   "source": [
    "f3(ruta1,mostrar = True)"
   ]
  },
  {
   "cell_type": "markdown",
   "id": "062a28c9",
   "metadata": {},
   "source": [
    "### Ej4\n",
    "Examinando el histograma, implementar una función que devuelva una imagen que tenga aumento del contraste."
   ]
  },
  {
   "cell_type": "markdown",
   "id": "8d40efb3",
   "metadata": {},
   "source": [
    "Defino 2 funciones `equalization`\n",
    "$$equalization(r,s) = f:r \\rightarrow s $$ \n",
    "\n",
    "Toma como argumentos la funcion de distribucion acumulada de X e Y, y devuelve una funcion f que toma valores de X y manda a Y, siguiendo la formula $[1]$ $n^{\\sim}=min_n \\{ n:w^{\\sim}_n\\leq w \\}$.\n",
    "\n",
    "$$equalization2(r) = f:r \\rightarrow s $$\n",
    "Solo toma como argumento la cdf de X, y hace el calculo para obtener en \"teoria\" lo mismo que `equalization`, siempre y cuando $Y$ ~ $Uniform$\n",
    "\n",
    "obs: `equalization` es una generalizacion de `equalization2`. "
   ]
  },
  {
   "cell_type": "code",
   "execution_count": 7,
   "id": "c3b5c53c-d460-4d61-9c81-c264b54b677d",
   "metadata": {},
   "outputs": [],
   "source": [
    "U = np.array([(i+1)/256 for i in range(256)]) # cdf de una uniforme. \n",
    "def equalization2(distri_x,distri_y): \n",
    "    n = len(distri_x)\n",
    "    #print(\"len X\",n)\n",
    "    #print(\"len Y\",len(distri_y))\n",
    "    res = np.zeros(n)\n",
    "    for i in range(n): \n",
    "        #print(distri_y - distri_x[i])\n",
    "        res[i] = np.argmax(distri_y - distri_x[i] >= 0)\n",
    "        #print(res[i])\n",
    "    return res.astype(int)\n",
    "def equalization(cdf,l): # l = L - 1\n",
    "    smin = cdf[0]\n",
    "    equa = np.floor((cdf-smin)/(1-smin) * l + 0.5).astype(int)\n",
    "    return equa"
   ]
  },
  {
   "cell_type": "markdown",
   "id": "2e6dbc18",
   "metadata": {},
   "source": [
    "### Hacemos la comparacion de ambos: "
   ]
  },
  {
   "cell_type": "code",
   "execution_count": 8,
   "id": "99329e22",
   "metadata": {},
   "outputs": [],
   "source": [
    "def comparacionEqua(ruta:str):\n",
    "    img = cv2.imread(ruta,cv2.IMREAD_GRAYSCALE)\n",
    "    if img is None: \n",
    "        print(\"Error ruta no valida\")\n",
    "        exit()\n",
    "    hist_original = f3(ruta)\n",
    "    bins = np.iinfo(img.dtype).max + 1\n",
    "    cdf = hist_original.cumsum() / img.size\n",
    "    equa1 = equalization(cdf,bins-1)\n",
    "    res_img = img.copy()\n",
    "    equa2 = equalization2(cdf,U)\n",
    "    X,Y = img.shape\n",
    "    hist_equ1 = np.zeros(bins)\n",
    "    hist_equ2 = np.zeros(bins)\n",
    "    for i in range(X):\n",
    "        for j in range(Y): \n",
    "            gris1 = equa1[img[i,j]]\n",
    "            gris2 = equa2[img[i,j]]\n",
    "            hist_equ1[gris1] += 1\n",
    "            hist_equ2[gris2] += 1\n",
    "    plt.figure(figsize=(8, 6))\n",
    "    plt.plot(hist_equ1, color='red',label='Histograma Ecualizado 1')\n",
    "    plt.plot(hist_equ2, color='blue',label='Histograma Ecualizado 2')\n",
    "    plt.legend()\n",
    "    plt.title('Comparacion de Histogramas ecualizados')\n",
    "    plt.xlabel('Nivel de Gris')\n",
    "    plt.ylabel('Cantidad de Píxeles')\n",
    "    plt.xlim([0,bins-1])\n",
    "    plt.show()"
   ]
  },
  {
   "cell_type": "code",
   "execution_count": 43,
   "id": "d1df7253",
   "metadata": {},
   "outputs": [
    {
     "data": {
      "image/png": "[encoded data removed]",
      "text/plain": [
       "<Figure size 576x432 with 1 Axes>"
      ]
     },
     "metadata": {
      "needs_background": "light"
     },
     "output_type": "display_data"
    }
   ],
   "source": [
    "comparacionEqua(ruta1)"
   ]
  },
  {
   "cell_type": "markdown",
   "id": "527d84a8",
   "metadata": {},
   "source": [
    "No me termina de cerrar porque son distintos, pero creo que esta bien el calculo de ambas funciones, ya que para `equalization2` y esta imagen en particular que toma muchos valores cercanos a 0, hace que cuando se calcula $[1]$ le cuesta \"mas\" encontrar el min n que haga que valga la desigualdad, y como consecuencia hace que todos esos valores cercanos a cero se vayan \"corriendo\" al \"medio\"."
   ]
  },
  {
   "cell_type": "code",
   "execution_count": 9,
   "id": "1852ce3a-6b48-49a8-8998-ca560a583411",
   "metadata": {},
   "outputs": [],
   "source": [
    "def f4(ruta:str):\n",
    "    img = cv2.imread(ruta,cv2.IMREAD_GRAYSCALE)\n",
    "    if img is None: \n",
    "        print(\"Error ruta no valida\")\n",
    "        exit()\n",
    "    hist_original = f3(ruta)\n",
    "    bins = np.iinfo(img.dtype).max + 1\n",
    "    cdf = hist_original.cumsum() / img.size\n",
    "    equa = equalization(cdf,bins-1)\n",
    "    res_img = img.copy()\n",
    "    #equa2 = equalization2(cdf,U)\n",
    "    #print(\"equalization2\",equa2.astype(int))\n",
    "    #print(\"equalization\",equa)\n",
    "    X,Y = img.shape\n",
    "    hist_equ = np.zeros(bins)\n",
    "    for i in range(X):\n",
    "        for j in range(Y): \n",
    "            res_img[i,j] = equa[img[i,j]]\n",
    "    cv2.imshow('Original',img)\n",
    "    cv2.imshow(\"Ecualizada\",res_img)\n",
    "    cv2.waitKey(0)\n",
    "    cv2.destroyAllWindows()\n",
    "    #return res_img "
   ]
  },
  {
   "cell_type": "code",
   "execution_count": null,
   "id": "bc0576ea",
   "metadata": {},
   "outputs": [],
   "source": [
    "f4(ruta1)"
   ]
  },
  {
   "cell_type": "markdown",
   "id": "4bce0f3e",
   "metadata": {},
   "source": [
    "### Ej5\n",
    "Implementar una función que dada una imagen y un valor de umbral devuelva una imagen binarizada."
   ]
  },
  {
   "cell_type": "code",
   "execution_count": 6,
   "id": "3e84afd7",
   "metadata": {},
   "outputs": [],
   "source": [
    "def f5(ruta:str, umbral:int,mostrar:bool=False):\n",
    "    \"\"\"\n",
    "    Suponemos que umbral esta en rango correspondiente.\n",
    "    \"\"\"\n",
    "    img = cv2.imread(ruta,cv2.IMREAD_GRAYSCALE)\n",
    "    if img is None: \n",
    "        print(\"Error ruta no valida\")\n",
    "        exit()\n",
    "    bin_img = (img >= umbral) * (np.iinfo(img.dtype).max)\n",
    "    bin_img = bin_img.astype(np.uint8)\n",
    "    if mostrar:\n",
    "        cv2.imshow('Binarizada',bin_img)\n",
    "        cv2.waitKey(0)\n",
    "        cv2.destroyAllWindows()\n",
    "    return bin_img"
   ]
  },
  {
   "cell_type": "code",
   "execution_count": 9,
   "id": "14777f67",
   "metadata": {},
   "outputs": [
    {
     "data": {
      "text/plain": [
       "array([[255, 255, 255, ..., 255, 255, 255],\n",
       "       [255, 255, 255, ..., 255, 255, 255],\n",
       "       [255, 255, 255, ..., 255, 255, 255],\n",
       "       ...,\n",
       "       [  0,   0,   0, ...,   0,   0,   0],\n",
       "       [  0,   0,   0, ...,   0,   0,   0],\n",
       "       [  0,   0,   0, ...,   0,   0,   0]], dtype=uint8)"
      ]
     },
     "execution_count": 9,
     "metadata": {},
     "output_type": "execute_result"
    }
   ],
   "source": [
    "f5(ruta2,157,mostrar=True)"
   ]
  },
  {
   "cell_type": "markdown",
   "id": "ed7e8705",
   "metadata": {},
   "source": [
    "### Ej6 \n",
    "Implementar una función que dada una imagen muestre el histograma original y el histograma\n",
    "equalizado."
   ]
  },
  {
   "cell_type": "code",
   "execution_count": 28,
   "id": "4d6b1324",
   "metadata": {},
   "outputs": [],
   "source": [
    "def f6(ruta:str):\n",
    "    hist_original = f3(ruta)\n",
    "    img = cv2.imread(ruta,cv2.IMREAD_GRAYSCALE)\n",
    "    if img is None: \n",
    "        print(\"Error ruta no valida\")\n",
    "        exit()\n",
    "    bins = np.iinfo(img.dtype).max + 1\n",
    "    cdf = hist_original.cumsum() / img.size\n",
    "    equa = equalization(cdf,bins-1)\n",
    "    X,Y = img.shape\n",
    "    hist_equ = np.zeros(bins)\n",
    "    for i in range(X):\n",
    "        for j in range(Y): \n",
    "            gris = equa[img[i,j]]\n",
    "            hist_equ[gris] += 1\n",
    "    plt.figure(figsize=(10, 8))\n",
    "\n",
    "    plt.subplot(2, 1, 1)  # (filas, columnas, índice)\n",
    "    plt.plot(hist_original, color='blue')\n",
    "    plt.title('Histograma original')\n",
    "    plt.xlabel('Intensidad')\n",
    "    plt.ylabel('Frecuencia')\n",
    "\n",
    "    plt.subplot(2, 1, 2)  # (filas, columnas, índice)\n",
    "    plt.plot(hist_equ, color='red')\n",
    "    plt.title('Histograma ecualizado')\n",
    "    plt.xlabel('Intensidad')\n",
    "    plt.ylabel('Frecuencia')\n",
    "    plt.tight_layout()\n",
    "    plt.show()"
   ]
  },
  {
   "cell_type": "code",
   "execution_count": 30,
   "id": "f5a02a9d",
   "metadata": {
    "scrolled": false
   },
   "outputs": [
    {
     "data": {
      "image/png": "[encoded data removed]",
      "text/plain": [
       "<Figure size 720x576 with 2 Axes>"
      ]
     },
     "metadata": {
      "needs_background": "light"
     },
     "output_type": "display_data"
    }
   ],
   "source": [
    "f6(ruta1)"
   ]
  },
  {
   "cell_type": "markdown",
   "id": "b5075dee-9d35-4d15-9822-cd354c4b12fe",
   "metadata": {},
   "source": [
    "### Ej7 \n",
    "Dada una imagen a la cual se le ecualizo su histograma, aplicar la ecualizacion del histograma por segunda vez a la misma imagen. Observar el resultado y dar una explicacion de lo sucedido."
   ]
  },
  {
   "cell_type": "code",
   "execution_count": 31,
   "id": "28242417-5f88-4795-a198-e013cac74359",
   "metadata": {},
   "outputs": [],
   "source": [
    "def f7(ruta:str): \n",
    "    img = cv2.imread(ruta,cv2.IMREAD_GRAYSCALE)\n",
    "    if img is None: \n",
    "        print(\"Error ruta no valida\")\n",
    "        exit()\n",
    "    histogram = f3(ruta)\n",
    "    bins = np.iinfo(img.dtype).max + 1\n",
    "    cdf = histogram.cumsum() / img.size\n",
    "    # primera equalizacion \n",
    "    equa1 = equalization(cdf,bins-1)\n",
    "    X,Y = img.shape\n",
    "    hist_equa = np.zeros(bins)\n",
    "    for i in range(X):\n",
    "        for j in range(Y): \n",
    "            gris = equa1[img[i,j]]\n",
    "            hist_equa[gris] += 1\n",
    "    cdf2 = hist_equa.cumsum() / img.size\n",
    "    # segunda equalization\n",
    "    equa2 = equalization(cdf2,bins-1)\n",
    "    hist_equa2 = np.zeros(bins)\n",
    "    for i in range(X):\n",
    "        for j in range(Y): \n",
    "            gris = equa2[img[i,j]]\n",
    "            hist_equa2[gris] += 1\n",
    "    plt.plot(hist_equa2, color='red')\n",
    "    plt.title('Histograma de Niveles de Gris')\n",
    "    plt.xlabel('Nivel de Gris')\n",
    "    plt.ylabel('Cantidad de Píxeles')\n",
    "    plt.xlim([0,bins])\n",
    "    plt.show()"
   ]
  },
  {
   "cell_type": "code",
   "execution_count": 33,
   "id": "1bd8bfa7-7fed-48a1-a2b6-32ae4c7f8ed9",
   "metadata": {
    "scrolled": true
   },
   "outputs": [
    {
     "data": {
      "image/png": "[encoded data removed]",
      "text/plain": [
       "<Figure size 432x288 with 1 Axes>"
      ]
     },
     "metadata": {
      "needs_background": "light"
     },
     "output_type": "display_data"
    }
   ],
   "source": [
    "f7(ruta1)"
   ]
  },
  {
   "cell_type": "markdown",
   "id": "9ff28b85",
   "metadata": {},
   "source": [
    "Vemos que para esta imagen, obtenemos el mismo histograma ecualizado 1, creo que esto sucede porque el proceso de ecualización de la img convierte la distribución original empirica de los valores de intensidad en una distribución lo más uniforme posible, una vez aplicada la ecualización y el histograma ha sido \"uniformizado\", cualquier intento de ecualizar la imagen ya no cambiara significativamente el histograma."
   ]
  },
  {
   "cell_type": "markdown",
   "id": "b9e8a85a-3a35-45dd-a3cd-4e15df85bea8",
   "metadata": {},
   "source": [
    "### Ej8 "
   ]
  },
  {
   "cell_type": "code",
   "execution_count": 34,
   "id": "76dc0c9e-2348-4a0a-9ae7-38315da477a1",
   "metadata": {},
   "outputs": [],
   "source": [
    "# No llegue :( "
   ]
  }
 ],
 "metadata": {
  "kernelspec": {
   "display_name": "Python 3 (ipykernel)",
   "language": "python",
   "name": "python3"
  },
  "language_info": {
   "codemirror_mode": {
    "name": "ipython",
    "version": 3
   },
   "file_extension": ".py",
   "mimetype": "text/x-python",
   "name": "python",
   "nbconvert_exporter": "python",
   "pygments_lexer": "ipython3",
   "version": "3.10.12"
  }
 },
 "nbformat": 4,
 "nbformat_minor": 5
}
