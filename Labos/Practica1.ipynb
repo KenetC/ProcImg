{
 "cells": [
  {
   "cell_type": "code",
   "execution_count": 1,
   "id": "c13ae092",
   "metadata": {},
   "outputs": [],
   "source": [
    "import numpy as np \n",
    "import cv2\n",
    "import matplotlib.pyplot as plt"
   ]
  },
  {
   "cell_type": "markdown",
   "id": "0c5087a5",
   "metadata": {},
   "source": [
    "### Ej1:\n",
    "Dada una imagen y un valor entero: 2, 3 o 4 muestre la imagen obtenida de multiplicarla por alguno de esos valores."
   ]
  },
  {
   "cell_type": "code",
   "execution_count": 2,
   "id": "259d1a9b",
   "metadata": {},
   "outputs": [],
   "source": [
    "def f1(ruta:str, factor:int): \n",
    "    img = cv2.imread(ruta,cv2.IMREAD_GRAYSCALE)\n",
    "    if img is None: \n",
    "        print(\"Error ruta no valida\")\n",
    "        exit()\n",
    "    img_res = img * factor\n",
    "    cv2.imshow('Original',img)\n",
    "    cv2.imshow(f'Multiplicada por {factor}',img_res)\n",
    "    cv2.waitKey(0)\n",
    "    cv2.destroyAllWindows()"
   ]
  },
  {
   "cell_type": "code",
   "execution_count": 4,
   "id": "af7e453a-60d3-42e7-be14-db07b3541398",
   "metadata": {},
   "outputs": [],
   "source": [
    "ruta1 = 'Imagenes_para_contraste/asteroid.jpg'\n",
    "f1(ruta1,3)"
   ]
  },
  {
   "cell_type": "markdown",
   "id": "d3ab217d",
   "metadata": {},
   "source": [
    "### Ej2 \n",
    "Implementar una función que dada una imagen devuelva su negativo."
   ]
  },
  {
   "cell_type": "code",
   "execution_count": 5,
   "id": "59ae3b8c",
   "metadata": {},
   "outputs": [],
   "source": [
    "def f2(ruta:str): \n",
    "    img = cv2.imread(ruta,cv2.IMREAD_GRAYSCALE)\n",
    "    if img is None: \n",
    "        print(\"Error ruta no valida\")\n",
    "        exit()\n",
    "    negativo = np.iinfo(img.dtype).max - img\n",
    "    cv2.imshow(\"Negativo\",negativo)\n",
    "    cv2.waitKey(0)\n",
    "    cv2.destroyAllWindows()"
   ]
  },
  {
   "cell_type": "code",
   "execution_count": 16,
   "id": "bb806445",
   "metadata": {},
   "outputs": [],
   "source": [
    "f2(ruta1)"
   ]
  },
  {
   "cell_type": "markdown",
   "id": "b71237a0",
   "metadata": {},
   "source": [
    "# Ej3 \n",
    "Implementar una función que dada una imagen devuelva el histograma de niveles de gris."
   ]
  },
  {
   "cell_type": "code",
   "execution_count": 117,
   "id": "05c9f9c4",
   "metadata": {},
   "outputs": [],
   "source": [
    "def f3(ruta:str, mostrar:bool=False):\n",
    "    img = cv2.imread(ruta,cv2.IMREAD_GRAYSCALE)\n",
    "    if img is None: \n",
    "        print(\"Error ruta no valida\")\n",
    "        exit()\n",
    "    bins = np.iinfo(img.dtype).max+1 \n",
    "    histogram = np.zeros(bins)\n",
    "    for i in range(bins):\n",
    "        for j in range(bins): \n",
    "            gris = img[i,j]\n",
    "            histogram[gris] += 1\n",
    "    if mostrar :\n",
    "        plt.plot(histogram, color='red')\n",
    "        plt.title('Histograma de Niveles de Gris')\n",
    "        plt.xlabel('Nivel de Gris')\n",
    "        plt.ylabel('Cantidad de Píxeles')\n",
    "        plt.xlim([0,bins-1])\n",
    "        plt.show()\n",
    "    return histogram"
   ]
  },
  {
   "cell_type": "code",
   "execution_count": 125,
   "id": "25f11003",
   "metadata": {},
   "outputs": [
    {
     "data": {
      "image/png": "[encoded data removed]",
      "text/plain": [
       "<Figure size 432x288 with 1 Axes>"
      ]
     },
     "metadata": {
      "needs_background": "light"
     },
     "output_type": "display_data"
    },
    {
     "data": {
      "text/plain": [
       "array([ 1151.,  2722.,  6075., 10738., 15441., 19868., 24717., 29069.,\n",
       "       32115., 34214., 35775., 36919., 37740., 38346., 38774., 39065.,\n",
       "       39290., 39464., 39578., 39656., 39730., 39790., 39830., 39872.,\n",
       "       39905., 39935., 39962., 39990., 40015., 40029., 40038., 40049.,\n",
       "       40057., 40065., 40072., 40079., 40085., 40090., 40092., 40094.,\n",
       "       40098., 40102., 40107., 40111., 40114., 40116., 40118., 40119.,\n",
       "       40121., 40123., 40124., 40125., 40129., 40129., 40131., 40135.,\n",
       "       40138., 40138., 40138., 40140., 40140., 40142., 40144., 40148.,\n",
       "       40149., 40150., 40151., 40152., 40152., 40153., 40155., 40157.,\n",
       "       40160., 40161., 40161., 40167., 40170., 40171., 40171., 40173.,\n",
       "       40175., 40178., 40183., 40185., 40187., 40187., 40187., 40190.,\n",
       "       40191., 40193., 40194., 40197., 40200., 40201., 40201., 40202.,\n",
       "       40203., 40203., 40205., 40206., 40208., 40209., 40210., 40213.,\n",
       "       40213., 40214., 40218., 40218., 40220., 40222., 40225., 40226.,\n",
       "       40231., 40233., 40234., 40234., 40235., 40235., 40237., 40239.,\n",
       "       40240., 40241., 40243., 40243., 40244., 40245., 40245., 40245.,\n",
       "       40246., 40247., 40247., 40250., 40251., 40255., 40257., 40258.,\n",
       "       40260., 40263., 40267., 40270., 40272., 40273., 40274., 40276.,\n",
       "       40279., 40279., 40280., 40280., 40282., 40284., 40285., 40288.,\n",
       "       40290., 40293., 40296., 40302., 40306., 40311., 40316., 40318.,\n",
       "       40322., 40324., 40327., 40333., 40337., 40340., 40344., 40347.,\n",
       "       40360., 40369., 40378., 40384., 40394., 40401., 40413., 40424.,\n",
       "       40437., 40453., 40473., 40490., 40512., 40523., 40556., 40598.,\n",
       "       40639., 40688., 40766., 40941., 41163., 41457., 41891., 42267.,\n",
       "       42817., 43352., 43879., 44422., 44912., 45369., 45771., 46193.,\n",
       "       46605., 47000., 47448., 47875., 48332., 48847., 49298., 49764.,\n",
       "       50181., 50634., 51067., 51529., 51984., 52448., 52925., 53427.,\n",
       "       53921., 54447., 55026., 55636., 56228., 56771., 57357., 57954.,\n",
       "       58541., 59086., 59632., 60136., 60589., 61021., 61414., 61740.,\n",
       "       62018., 62302., 62538., 62766., 62960., 63137., 63309., 63481.,\n",
       "       63637., 63804., 63951., 64094., 64216., 64334., 64437., 64537.,\n",
       "       64657., 64736., 64827., 64896., 64983., 65122., 65220., 65536.])"
      ]
     },
     "execution_count": 125,
     "metadata": {},
     "output_type": "execute_result"
    }
   ],
   "source": [
    "f3(ruta1,mostrar = True).cumsum()"
   ]
  },
  {
   "cell_type": "markdown",
   "id": "062a28c9",
   "metadata": {},
   "source": [
    "### Ej4\n",
    "Examinando el histograma, implementar una función que devuelva una imagen que tenga aumento del contraste."
   ]
  },
  {
   "cell_type": "code",
   "execution_count": 7,
   "id": "99329e22",
   "metadata": {},
   "outputs": [],
   "source": [
    "def f4(ruta:str):\n",
    "    img = cv2.imread(ruta,cv2.IMREAD_GRAYSCALE)\n",
    "    if img is None: \n",
    "        print(\"Error ruta no valida\")\n",
    "        exit()\n",
    "    "
   ]
  },
  {
   "cell_type": "markdown",
   "id": "4bce0f3e",
   "metadata": {},
   "source": [
    "### Ej5\n",
    "Implementar una función que dada una imagen y un valor de umbral devuelva una imagen binarizada."
   ]
  },
  {
   "cell_type": "code",
   "execution_count": 8,
   "id": "3e84afd7",
   "metadata": {},
   "outputs": [],
   "source": [
    "def f5(ruta:str, umbral:int):\n",
    "    \"\"\"\n",
    "    Suponemos que umbral esta en rango correspondiente.\n",
    "    \"\"\"\n",
    "    img = cv2.imread(ruta,cv2.IMREAD_GRAYSCALE)\n",
    "    if img is None: \n",
    "        print(\"Error ruta no valida\")\n",
    "        exit()\n",
    "    bin_img = (img >= umbral) * (np.iinfo(np.iinfo(img.dtype)).max+1)\n",
    "    return bin_img"
   ]
  },
  {
   "cell_type": "markdown",
   "id": "ed7e8705",
   "metadata": {},
   "source": [
    "### Ej6 \n",
    "Implementar una función que dada una imagen muestre el histograma original y el histograma\n",
    "equalizado."
   ]
  },
  {
   "cell_type": "code",
   "execution_count": null,
   "id": "ad74cd6c-4a54-498a-85e7-9fde76a5f66e",
   "metadata": {},
   "outputs": [],
   "source": [
    "def Fx(k): \n",
    "    res =0 \n",
    "    while k>=0 : \n",
    "        res += 0.25\n",
    "        k--\n",
    "    return res \n",
    "def ps(y):\n",
    "    if y == 0:\n",
    "        return 0\n",
    "    elif y == 1 or y == 2:\n",
    "        return 0.5\n",
    "    elif y == 3:\n",
    "        return 0\n",
    "    else:\n",
    "        return \"Valor no definido\"\n",
    "def Fy(k): \n",
    "    res = 0 \n",
    "    while k >= 0: \n",
    "        res += ps(k)\n",
    "        k--\n",
    "    return res"
   ]
  },
  {
   "cell_type": "code",
   "execution_count": 54,
   "id": "db68930b-1db5-4560-b58f-f7cadddd1746",
   "metadata": {},
   "outputs": [],
   "source": [
    "arry = np.array([0,0.5,1,1])\n",
    "arrx = np.array([.25,.5,.75,1])\n",
    "\n",
    "def f(n,arry,arrx): \n",
    "    return np.argmax(arry-arrx[n]>=0)\n",
    "\n",
    "def salida(arx, ary):\n",
    "    res = np.ones(len(arx))\n",
    "    for i in range(len(arx)): \n",
    "        res[i] = np.argmax(ary-arx[i]>=0)\n",
    "    return res"
   ]
  },
  {
   "cell_type": "code",
   "execution_count": 64,
   "id": "979dfac4-a5fe-4f88-b4ad-38b2e8ab7603",
   "metadata": {},
   "outputs": [
    {
     "data": {
      "text/plain": [
       "[0.25, 0.5, 0.75, 1.0]"
      ]
     },
     "execution_count": 64,
     "metadata": {},
     "output_type": "execute_result"
    }
   ],
   "source": [
    "[(i+1)/4 for i in range(4)]"
   ]
  },
  {
   "cell_type": "code",
   "execution_count": 136,
   "id": "4d6b1324",
   "metadata": {},
   "outputs": [],
   "source": [
    "Y = [(i+1)/256 for i in range(255)]\n",
    "def equalization2(arx,ary): \n",
    "    res = np.ones(len(arx))\n",
    "    for i in range(len(arx)): \n",
    "        res[i] = np.argmax(ary-arx[i]>=0)\n",
    "    return res\n",
    "def equalization(cdf,max_val): \n",
    "    smin = cdf[0]\n",
    "    hist_equ = np.floor((cdf-smin)/(1-smin) * max_val + 0.5)\n",
    "    return hist_equ\n",
    "def f6(ruta:str, mostrar:bool=False):\n",
    "    hist_original = f3(ruta)\n",
    "    img = cv2.imread(ruta,cv2.IMREAD_GRAYSCALE)\n",
    "    if img is None: \n",
    "        print(\"Error ruta no valida\")\n",
    "        exit()\n",
    "    bins = np.iinfo(img.dtype).max+1\n",
    "    #hist_equ = equalization(hist_original,max_val,img.size)\n",
    "    N = img.size\n",
    "    cdf = hist_original.cumsum() / N\n",
    "    hist2 = equalization2(cdf,Y)\n",
    "    #print(hist_original.size)\n",
    "    if mostrar :\n",
    "        plt.plot(hist2, color='red')\n",
    "        plt.title('Histograma de Niveles de Gris')\n",
    "        plt.xlabel('Nivel de Gris')\n",
    "        plt.ylabel('Cantidad de Píxeles')\n",
    "        plt.xlim([0,bins-1])\n",
    "        plt.show()\n",
    "    return hist2"
   ]
  },
  {
   "cell_type": "code",
   "execution_count": 137,
   "id": "f5a02a9d",
   "metadata": {
    "scrolled": true
   },
   "outputs": [
    {
     "data": {
      "image/png": "[encoded data removed]",
      "text/plain": [
       "<Figure size 432x288 with 1 Axes>"
      ]
     },
     "metadata": {
      "needs_background": "light"
     },
     "output_type": "display_data"
    },
    {
     "data": {
      "text/plain": [
       "array([ 0.,  1.,  2.,  4.,  5.,  7.,  9., 10., 12., 12., 13., 13., 14.,\n",
       "       14., 14., 14., 14., 14., 14., 14., 14., 14., 14., 14., 14., 14.,\n",
       "       14., 14., 14., 15., 15., 15., 15., 15., 15., 15., 15., 15., 15.,\n",
       "       15., 15., 15., 15., 15., 15., 15., 15., 15., 15., 15., 15., 15.,\n",
       "       15., 15., 15., 15., 15., 15., 15., 15., 15., 15., 15., 15., 15.,\n",
       "       15., 15., 15., 15., 15., 15., 15., 15., 15., 15., 15., 15., 15.,\n",
       "       15., 15., 15., 15., 15., 15., 15., 15., 15., 15., 15., 15., 15.,\n",
       "       15., 15., 15., 15., 15., 15., 15., 15., 15., 15., 15., 15., 15.,\n",
       "       15., 15., 15., 15., 15., 15., 15., 15., 15., 15., 15., 15., 15.,\n",
       "       15., 15., 15., 15., 15., 15., 15., 15., 15., 15., 15., 15., 15.,\n",
       "       15., 15., 15., 15., 15., 15., 15., 15., 15., 15., 15., 15., 15.,\n",
       "       15., 15., 15., 15., 15., 15., 15., 15., 15., 15., 15., 15., 15.,\n",
       "       15., 15., 15., 15., 15., 15., 15., 15., 15., 15., 15., 15., 15.,\n",
       "       15., 15., 15., 15., 15., 15., 15., 15., 15., 15., 15., 15., 15.,\n",
       "       15., 15., 15., 15., 15., 15., 15., 15., 15., 15., 16., 16., 16.,\n",
       "       16., 16., 17., 17., 17., 17., 17., 17., 17., 18., 18., 18., 18.,\n",
       "       18., 18., 19., 19., 19., 19., 19., 20., 20., 20., 20., 20., 21.,\n",
       "       21., 21., 21., 21., 22., 22., 22., 22., 22., 23., 23., 23., 23.,\n",
       "       23., 23., 23., 23., 23., 23., 23., 23., 23., 24., 24., 24., 24.,\n",
       "       24., 24., 24., 24., 24., 24., 24., 24., 24.])"
      ]
     },
     "execution_count": 137,
     "metadata": {},
     "output_type": "execute_result"
    }
   ],
   "source": [
    "f6(ruta1,mostrar=True)\n",
    "#f3(ruta1)\n",
    "#len(Y)"
   ]
  },
  {
   "cell_type": "markdown",
   "id": "b5075dee-9d35-4d15-9822-cd354c4b12fe",
   "metadata": {},
   "source": [
    "### Ej7 \n",
    "Dada una imagen a la cual se le ecualizo su histograma, aplicar la ecualizacion del histograma por segunda vez a la misma imagen. Observar el resultado y dar una explicacion de lo sucedido."
   ]
  },
  {
   "cell_type": "code",
   "execution_count": 27,
   "id": "28242417-5f88-4795-a198-e013cac74359",
   "metadata": {},
   "outputs": [],
   "source": [
    "def f7(ruta:str, mostrar:bool= False): \n",
    "    img = cv2.imread(ruta,cv2.IMREAD_GRAYSCALE)\n",
    "    if img is None: \n",
    "        print(\"Error ruta no valida\")\n",
    "        exit()\n",
    "    max_val = np.iinfo(img.dtype).max   \n",
    "    histogram = f3(ruta)\n",
    "    # primera equalizacion \n",
    "    hist_equ = equalization(histogram,max_val,img.size)\n",
    "    # segunda equalization\n",
    "    hist2_equa = equalization(hist_equ,max_val,img.size)\n",
    "    if mostrar :\n",
    "        plt.plot(hist2_equa, color='red')\n",
    "        plt.title('Histograma de Niveles de Gris')\n",
    "        plt.xlabel('Nivel de Gris')\n",
    "        plt.ylabel('Cantidad de Píxeles')\n",
    "        plt.xlim([0,max_val])\n",
    "        plt.show()\n",
    "    return hist2_equa"
   ]
  },
  {
   "cell_type": "code",
   "execution_count": 28,
   "id": "1bd8bfa7-7fed-48a1-a2b6-32ae4c7f8ed9",
   "metadata": {
    "scrolled": true
   },
   "outputs": [
    {
     "data": {
      "image/png": "[encoded data removed]",
      "text/plain": [
       "<Figure size 432x288 with 1 Axes>"
      ]
     },
     "metadata": {
      "needs_background": "light"
     },
     "output_type": "display_data"
    },
    {
     "data": {
      "text/plain": [
       "array([ 0.,  1.,  1.,  1.,  1.,  1.,  1.,  1.,  1.,  1.,  1.,  1.,  1.,\n",
       "        1.,  1.,  1.,  1.,  1.,  1.,  1.,  1.,  1.,  1.,  1.,  1.,  2.,\n",
       "        2.,  2.,  2.,  2.,  2.,  2.,  2.,  2.,  2.,  2.,  2.,  2.,  2.,\n",
       "        2.,  2.,  2.,  2.,  3.,  3.,  3.,  3.,  3.,  3.,  3.,  3.,  3.,\n",
       "        3.,  3.,  3.,  3.,  3.,  3.,  3.,  4.,  4.,  4.,  4.,  4.,  4.,\n",
       "        4.,  4.,  4.,  4.,  4.,  4.,  4.,  4.,  4.,  5.,  5.,  5.,  5.,\n",
       "        5.,  5.,  5.,  5.,  5.,  5.,  5.,  5.,  5.,  5.,  5.,  6.,  6.,\n",
       "        6.,  6.,  6.,  6.,  6.,  6.,  6.,  6.,  6.,  6.,  6.,  6.,  6.,\n",
       "        7.,  7.,  7.,  7.,  7.,  7.,  7.,  7.,  7.,  7.,  7.,  7.,  7.,\n",
       "        7.,  7.,  8.,  8.,  8.,  8.,  8.,  8.,  8.,  8.,  8.,  8.,  8.,\n",
       "        8.,  8.,  8.,  9.,  9.,  9.,  9.,  9.,  9.,  9.,  9.,  9.,  9.,\n",
       "        9.,  9.,  9.,  9.,  9., 10., 10., 10., 10., 10., 10., 10., 10.,\n",
       "       10., 10., 10., 10., 10., 10., 11., 11., 11., 11., 11., 11., 11.,\n",
       "       11., 11., 11., 11., 11., 11., 11., 12., 12., 12., 12., 12., 12.,\n",
       "       12., 12., 12., 12., 12., 12., 12., 13., 13., 13., 13., 13., 13.,\n",
       "       13., 13., 13., 13., 13., 13., 13., 14., 14., 14., 14., 14., 14.,\n",
       "       14., 14., 14., 14., 14., 14., 15., 15., 15., 15., 15., 15., 15.,\n",
       "       15., 15., 15., 15., 15., 16., 16., 16., 16., 16., 16., 16., 16.,\n",
       "       16., 16., 16., 17., 17., 17., 17., 17., 17., 17., 17., 17., 17.,\n",
       "       18., 18., 18., 18., 18., 18., 18., 18.])"
      ]
     },
     "execution_count": 28,
     "metadata": {},
     "output_type": "execute_result"
    }
   ],
   "source": [
    "f7(ruta1,mostrar=True)"
   ]
  },
  {
   "cell_type": "markdown",
   "id": "b9e8a85a-3a35-45dd-a3cd-4e15df85bea8",
   "metadata": {},
   "source": [
    "### Ej8 "
   ]
  },
  {
   "cell_type": "code",
   "execution_count": 135,
   "id": "76dc0c9e-2348-4a0a-9ae7-38315da477a1",
   "metadata": {},
   "outputs": [
    {
     "data": {
      "text/plain": [
       "683000"
      ]
     },
     "execution_count": 135,
     "metadata": {},
     "output_type": "execute_result"
    }
   ],
   "source": [
    "img = cv2.imread(ruta1,cv2.IMREAD_GRAYSCALE)\n",
    "img.size"
   ]
  }
 ],
 "metadata": {
  "kernelspec": {
   "display_name": "Python 3 (ipykernel)",
   "language": "python",
   "name": "python3"
  },
  "language_info": {
   "codemirror_mode": {
    "name": "ipython",
    "version": 3
   },
   "file_extension": ".py",
   "mimetype": "text/x-python",
   "name": "python",
   "nbconvert_exporter": "python",
   "pygments_lexer": "ipython3",
   "version": "3.10.12"
  }
 },
 "nbformat": 4,
 "nbformat_minor": 5
}
