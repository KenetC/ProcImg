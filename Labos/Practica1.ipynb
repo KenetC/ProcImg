{
 "cells": [
  {
   "cell_type": "code",
   "execution_count": 1,
   "id": "c13ae092",
   "metadata": {},
   "outputs": [],
   "source": [
    "import numpy as np \n",
    "import cv2\n",
    "import matplotlib.pyplot as plt\n",
    "#from scipy.stats import norm"
   ]
  },
  {
   "cell_type": "markdown",
   "id": "0c5087a5",
   "metadata": {},
   "source": [
    "### Ej1:\n",
    "Dada una imagen y un valor entero: 2, 3 o 4 muestre la imagen obtenida de multiplicarla por alguno de esos valores."
   ]
  },
  {
   "cell_type": "code",
   "execution_count": 2,
   "id": "dd38641e-c590-40c2-9b86-d2cafa16e363",
   "metadata": {
    "scrolled": true
   },
   "outputs": [
    {
     "name": "stdout",
     "output_type": "stream",
     "text": [
      "Machine parameters for uint8\n",
      "---------------------------------------------------------------\n",
      "min = 0\n",
      "max = 255\n",
      "---------------------------------------------------------------\n",
      "\n"
     ]
    }
   ],
   "source": [
    "ruta1 = 'Imagenes_para_contraste/asteroid.jpg'\n",
    "img = cv2.imread(ruta1,cv2.IMREAD_GRAYSCALE)\n",
    "if img is None: \n",
    "    print(\"Error ruta no valida\")\n",
    "    exit()\n",
    "#print(img.shape)\n",
    "#print(np.iinfo(img.dtype).max)\n",
    "#print()\n",
    "print(np.iinfo(img.dtype))"
   ]
  },
  {
   "cell_type": "code",
   "execution_count": 3,
   "id": "259d1a9b",
   "metadata": {},
   "outputs": [],
   "source": [
    "def f1(ruta:str, factor:int): \n",
    "    img = cv2.imread(ruta,cv2.IMREAD_GRAYSCALE)\n",
    "    if img is None: \n",
    "        print(\"Error ruta no valida\")\n",
    "        exit()\n",
    "    img_res = img * factor\n",
    "    cv2.imshow('Original',img)\n",
    "    cv2.imshow(f'Multiplicada por {factor}',img_res)\n",
    "    cv2.waitKey(0)\n",
    "    cv2.destroyAllWindows()"
   ]
  },
  {
   "cell_type": "code",
   "execution_count": 3,
   "id": "af7e453a-60d3-42e7-be14-db07b3541398",
   "metadata": {},
   "outputs": [
    {
     "name": "stderr",
     "output_type": "stream",
     "text": [
      "Warning: Ignoring XDG_SESSION_TYPE=wayland on Gnome. Use QT_QPA_PLATFORM=wayland to run on Wayland anyway.\n"
     ]
    }
   ],
   "source": [
    "ruta1 = 'Imagenes_para_contraste/asteroid.jpg'\n",
    "f1(ruta1,6)"
   ]
  },
  {
   "cell_type": "markdown",
   "id": "d3ab217d",
   "metadata": {},
   "source": [
    "### Ej2 \n",
    "Implementar una función que dada una imagen devuelva su negativo."
   ]
  },
  {
   "cell_type": "code",
   "execution_count": 4,
   "id": "59ae3b8c",
   "metadata": {},
   "outputs": [],
   "source": [
    "def f2(ruta:str): \n",
    "    img = cv2.imread(ruta,cv2.IMREAD_GRAYSCALE)\n",
    "    if img is None: \n",
    "        print(\"Error ruta no valida\")\n",
    "        exit()\n",
    "    negativo = np.iinfo(img.dtype).max - img\n",
    "    cv2.imshow(\"Negativo\",negativo)\n",
    "    cv2.waitKey(0)\n",
    "    cv2.destroyAllWindows()"
   ]
  },
  {
   "cell_type": "code",
   "execution_count": 5,
   "id": "bb806445",
   "metadata": {},
   "outputs": [],
   "source": [
    "f2(ruta1)"
   ]
  },
  {
   "cell_type": "markdown",
   "id": "b71237a0",
   "metadata": {},
   "source": [
    "# Ej3 \n",
    "Implementar una función que dada una imagen devuelva el histograma de niveles de gris."
   ]
  },
  {
   "cell_type": "code",
   "execution_count": 16,
   "id": "05c9f9c4",
   "metadata": {},
   "outputs": [],
   "source": [
    "def f3(ruta:str, mostrar:bool=False):\n",
    "    img = cv2.imread(ruta,cv2.IMREAD_GRAYSCALE)\n",
    "    if img is None: \n",
    "        print(\"Error ruta no valida\")\n",
    "        exit()\n",
    "    bins = np.iinfo(img.dtype).max+1 \n",
    "    X,Y = img.shape\n",
    "    histogram = np.zeros(bins)\n",
    "    for i in range(X):\n",
    "        for j in range(Y): \n",
    "            gris = img[i,j]\n",
    "            histogram[gris] += 1\n",
    "    if mostrar :\n",
    "        plt.plot(histogram, color='red')\n",
    "        plt.title('Histograma de Niveles de Gris')\n",
    "        plt.xlabel('Nivel de Gris')\n",
    "        plt.ylabel('Cantidad de Píxeles')\n",
    "        plt.xlim([0,bins-1])\n",
    "        plt.show()\n",
    "    return histogram"
   ]
  },
  {
   "cell_type": "code",
   "execution_count": 17,
   "id": "25f11003",
   "metadata": {
    "scrolled": true
   },
   "outputs": [
    {
     "data": {
      "image/png": "[encoded data removed]",
      "text/plain": [
       "<Figure size 432x288 with 1 Axes>"
      ]
     },
     "metadata": {
      "needs_background": "light"
     },
     "output_type": "display_data"
    },
    {
     "data": {
      "text/plain": [
       "array([3.6746e+05, 1.4849e+04, 2.4799e+04, 1.9518e+04, 1.5320e+04,\n",
       "       1.3035e+04, 1.2791e+04, 1.2103e+04, 9.1950e+03, 7.4530e+03,\n",
       "       6.2600e+03, 5.4400e+03, 4.6620e+03, 4.1760e+03, 3.7630e+03,\n",
       "       3.4170e+03, 3.1400e+03, 2.9820e+03, 2.6350e+03, 2.5590e+03,\n",
       "       2.2740e+03, 2.0250e+03, 1.8950e+03, 1.8760e+03, 1.7180e+03,\n",
       "       1.5810e+03, 1.5050e+03, 1.4780e+03, 1.3990e+03, 1.3670e+03,\n",
       "       1.2880e+03, 1.2330e+03, 1.1580e+03, 1.1110e+03, 1.0610e+03,\n",
       "       1.0110e+03, 1.0330e+03, 8.6900e+02, 8.0000e+02, 8.2900e+02,\n",
       "       8.3400e+02, 8.2300e+02, 8.0200e+02, 7.8100e+02, 7.7500e+02,\n",
       "       7.9500e+02, 7.2100e+02, 7.4200e+02, 7.3900e+02, 7.1200e+02,\n",
       "       7.2200e+02, 7.0300e+02, 6.6100e+02, 6.3300e+02, 6.4900e+02,\n",
       "       6.3700e+02, 6.0400e+02, 5.9700e+02, 5.5900e+02, 5.7700e+02,\n",
       "       5.9900e+02, 4.8400e+02, 4.6700e+02, 4.6400e+02, 5.1900e+02,\n",
       "       4.5000e+02, 4.5500e+02, 4.5200e+02, 4.1100e+02, 3.9100e+02,\n",
       "       4.4200e+02, 4.0100e+02, 4.0300e+02, 3.7100e+02, 3.3100e+02,\n",
       "       3.5600e+02, 3.7800e+02, 4.0500e+02, 3.5300e+02, 3.7300e+02,\n",
       "       3.3000e+02, 3.4200e+02, 3.1000e+02, 3.0300e+02, 3.4200e+02,\n",
       "       3.1300e+02, 3.2500e+02, 2.9000e+02, 2.7400e+02, 2.8500e+02,\n",
       "       2.5900e+02, 2.5300e+02, 2.5400e+02, 2.5200e+02, 2.5500e+02,\n",
       "       2.4300e+02, 2.4800e+02, 2.6100e+02, 2.5600e+02, 2.7400e+02,\n",
       "       2.3600e+02, 2.2700e+02, 2.1400e+02, 2.0900e+02, 2.1900e+02,\n",
       "       2.0800e+02, 1.7400e+02, 1.8900e+02, 1.9500e+02, 1.8400e+02,\n",
       "       1.9500e+02, 2.0100e+02, 2.1600e+02, 1.9700e+02, 1.8900e+02,\n",
       "       1.7500e+02, 1.7900e+02, 1.9900e+02, 1.4700e+02, 1.7900e+02,\n",
       "       1.7300e+02, 1.9600e+02, 2.1500e+02, 1.7400e+02, 1.8300e+02,\n",
       "       1.7500e+02, 1.7200e+02, 1.9500e+02, 1.9100e+02, 1.8700e+02,\n",
       "       1.6900e+02, 1.7900e+02, 1.6900e+02, 1.7100e+02, 1.6800e+02,\n",
       "       1.9700e+02, 1.8900e+02, 2.0000e+02, 1.9000e+02, 1.8000e+02,\n",
       "       1.8200e+02, 1.6100e+02, 1.9400e+02, 1.6300e+02, 1.9400e+02,\n",
       "       1.8100e+02, 1.7900e+02, 1.9700e+02, 2.1700e+02, 2.1300e+02,\n",
       "       1.9500e+02, 1.9700e+02, 1.9700e+02, 1.9400e+02, 2.0000e+02,\n",
       "       2.1100e+02, 2.0500e+02, 2.2600e+02, 2.1100e+02, 2.2400e+02,\n",
       "       2.4400e+02, 2.3700e+02, 2.3000e+02, 2.3000e+02, 2.4400e+02,\n",
       "       2.3200e+02, 2.3200e+02, 2.2200e+02, 2.3700e+02, 2.3900e+02,\n",
       "       2.4700e+02, 2.3200e+02, 2.7400e+02, 2.3800e+02, 2.5200e+02,\n",
       "       2.7200e+02, 2.8000e+02, 2.8800e+02, 3.0400e+02, 2.7400e+02,\n",
       "       3.0300e+02, 3.1200e+02, 3.3000e+02, 3.4400e+02, 3.4000e+02,\n",
       "       4.0600e+02, 4.7100e+02, 6.0700e+02, 8.0000e+02, 9.6500e+02,\n",
       "       1.2270e+03, 1.2860e+03, 1.5230e+03, 1.5870e+03, 1.6110e+03,\n",
       "       1.6800e+03, 1.6430e+03, 1.6560e+03, 1.5560e+03, 1.6260e+03,\n",
       "       1.7880e+03, 1.7230e+03, 1.7870e+03, 1.6510e+03, 1.7470e+03,\n",
       "       1.7460e+03, 1.5790e+03, 1.5670e+03, 1.3620e+03, 1.3150e+03,\n",
       "       1.2370e+03, 1.2380e+03, 1.1250e+03, 1.1150e+03, 1.0580e+03,\n",
       "       1.0650e+03, 1.0610e+03, 1.0420e+03, 1.0490e+03, 1.0720e+03,\n",
       "       1.0180e+03, 9.6800e+02, 1.0620e+03, 1.1500e+03, 1.1420e+03,\n",
       "       1.0840e+03, 1.0630e+03, 1.0370e+03, 9.6000e+02, 9.4800e+02,\n",
       "       9.0500e+02, 7.8200e+02, 8.1400e+02, 7.6700e+02, 7.3900e+02,\n",
       "       6.8900e+02, 6.3300e+02, 5.9000e+02, 5.6700e+02, 5.7000e+02,\n",
       "       5.6800e+02, 5.5700e+02, 5.1100e+02, 5.2900e+02, 4.6600e+02,\n",
       "       4.8400e+02, 4.6800e+02, 4.5500e+02, 4.7300e+02, 5.0100e+02,\n",
       "       4.2000e+02, 4.2100e+02, 4.8400e+02, 5.7100e+02, 5.4200e+02,\n",
       "       2.6000e+03])"
      ]
     },
     "execution_count": 17,
     "metadata": {},
     "output_type": "execute_result"
    }
   ],
   "source": [
    "f3(ruta1,mostrar = True)"
   ]
  },
  {
   "cell_type": "markdown",
   "id": "062a28c9",
   "metadata": {},
   "source": [
    "### Ej4\n",
    "Examinando el histograma, implementar una función que devuelva una imagen que tenga aumento del contraste."
   ]
  },
  {
   "cell_type": "code",
   "execution_count": 18,
   "id": "c3b5c53c-d460-4d61-9c81-c264b54b677d",
   "metadata": {},
   "outputs": [],
   "source": [
    "U = np.array([(i+1)/256 for i in range(256)]) # cdf de una uniforme. \n",
    "def equalization2(distri_x,distri_y): \n",
    "    n = len(distri_x)\n",
    "    print(\"len X\",n)\n",
    "    print(\"len Y\",len(distri_y))\n",
    "    res = np.zeros(n)\n",
    "    for i in range(n): \n",
    "        #print(distri_y - distri_x[i])\n",
    "        res[i] = np.argmax(distri_y - distri_x[i] >= 0)\n",
    "        #print(res[i])\n",
    "    return res.astype(int)\n",
    "def equalization(cdf,l): # l = L - 1\n",
    "    smin = cdf[0]\n",
    "    equa = np.floor((cdf-smin)/(1-smin) * l + 0.5).astype(int)\n",
    "    return equa"
   ]
  },
  {
   "cell_type": "code",
   "execution_count": 19,
   "id": "99329e22",
   "metadata": {},
   "outputs": [],
   "source": [
    "def f4(ruta:str):\n",
    "    img = cv2.imread(ruta,cv2.IMREAD_GRAYSCALE)\n",
    "    if img is None: \n",
    "        print(\"Error ruta no valida\")\n",
    "        exit()\n",
    "    hist_original = f3(ruta)\n",
    "    bins = np.iinfo(img.dtype).max + 1\n",
    "    cdf = hist_original.cumsum() / img.size\n",
    "    equa = equalization(cdf,bins-1)\n",
    "    res_img = img.copy()\n",
    "    #equa2 = equalization2(cdf,U)\n",
    "    #print(\"equalization2\",equa2.astype(int))\n",
    "    #print(\"equalization\",equa)\n",
    "    X,Y = img.shape\n",
    "    hist_equ = np.zeros(bins)\n",
    "    for i in range(X):\n",
    "        for j in range(Y): \n",
    "            res_img[i,j] = equa[img[i,j]]\n",
    "    cv2.imshow('Original',img)\n",
    "    cv2.imshow(\"equa\",res_img)\n",
    "    cv2.waitKey(0)\n",
    "    cv2.destroyAllWindows()\n",
    "    #return res_img "
   ]
  },
  {
   "cell_type": "code",
   "execution_count": 20,
   "id": "1852ce3a-6b48-49a8-8998-ca560a583411",
   "metadata": {},
   "outputs": [
    {
     "name": "stderr",
     "output_type": "stream",
     "text": [
      "Warning: Ignoring XDG_SESSION_TYPE=wayland on Gnome. Use QT_QPA_PLATFORM=wayland to run on Wayland anyway.\n"
     ]
    }
   ],
   "source": [
    "f4(ruta1)"
   ]
  },
  {
   "cell_type": "markdown",
   "id": "4bce0f3e",
   "metadata": {},
   "source": [
    "### Ej5\n",
    "Implementar una función que dada una imagen y un valor de umbral devuelva una imagen binarizada."
   ]
  },
  {
   "cell_type": "code",
   "execution_count": 9,
   "id": "3e84afd7",
   "metadata": {},
   "outputs": [],
   "source": [
    "def f5(ruta:str, umbral:int):\n",
    "    \"\"\"\n",
    "    Suponemos que umbral esta en rango correspondiente.\n",
    "    \"\"\"\n",
    "    img = cv2.imread(ruta,cv2.IMREAD_GRAYSCALE)\n",
    "    if img is None: \n",
    "        print(\"Error ruta no valida\")\n",
    "        exit()\n",
    "    bin_img = (img >= umbral) * (np.iinfo(np.iinfo(img.dtype)).max+1)\n",
    "    return bin_img"
   ]
  },
  {
   "cell_type": "markdown",
   "id": "ed7e8705",
   "metadata": {},
   "source": [
    "### Ej6 \n",
    "Implementar una función que dada una imagen muestre el histograma original y el histograma\n",
    "equalizado."
   ]
  },
  {
   "cell_type": "code",
   "execution_count": 117,
   "id": "9f118a39-85ae-4ba3-8b5a-06bd99f0c119",
   "metadata": {
    "scrolled": true
   },
   "outputs": [
    {
     "data": {
      "text/plain": [
       "(256,)"
      ]
     },
     "execution_count": 117,
     "metadata": {},
     "output_type": "execute_result"
    }
   ],
   "source": [
    "x = np.linspace(0, 1, 256)\n",
    "pdf = norm.pdf(x)\n",
    "\n",
    "# Normalizamos la PDF para obtener la FDA\n",
    "fda = np.cumsum(pdf)\n",
    "fda /= fda[-1]  # Aseguramos que la FDA llegue a 1 al final\n",
    "U.shape\n",
    "#len(fda)\n",
    "#equalization2(np.array([.25,.5,.75,1]),np.array([0,.5,1,1]))\n",
    "#equalization2(fda,U)\n",
    "#equalization(fda,255)\n",
    "#equalization(cdf,255) == equalization2(cdf,U)"
   ]
  },
  {
   "cell_type": "code",
   "execution_count": 119,
   "id": "4d6b1324",
   "metadata": {},
   "outputs": [],
   "source": [
    "def f6(ruta:str, mostrar:bool=False):\n",
    "    hist_original = f3(ruta)\n",
    "    img = cv2.imread(ruta,cv2.IMREAD_GRAYSCALE)\n",
    "    if img is None: \n",
    "        print(\"Error ruta no valida\")\n",
    "        exit()\n",
    "    bins = np.iinfo(img.dtype).max + 1\n",
    "    cdf = hist_original.cumsum() / img.size\n",
    "    equa = equalization(cdf,bins-1)\n",
    "    #equa2 = equalization2(cdf,U)\n",
    "    #print(\"equalization2\",equa2.astype(int))\n",
    "    #print(\"equalization\",equa)\n",
    "    X,Y = img.shape\n",
    "    hist_equ = np.zeros(bins)\n",
    "    for i in range(X):\n",
    "        for j in range(Y): \n",
    "            gris = equa[img[i,j]]\n",
    "            hist_equ[gris] += 1\n",
    "    #hist_equ = equalization2(cdf,Y)\n",
    "    #print(hist_original.size)\n",
    "    if mostrar :\n",
    "        plt.plot(hist_equ, color='red')\n",
    "        plt.title('Histograma de Niveles de Gris')\n",
    "        plt.xlabel('Nivel de Gris')\n",
    "        plt.ylabel('Cantidad de Píxeles')\n",
    "        plt.xlim([0,bins-1])\n",
    "        plt.show()\n",
    "    return hist_equ"
   ]
  },
  {
   "cell_type": "code",
   "execution_count": 120,
   "id": "f5a02a9d",
   "metadata": {
    "scrolled": true
   },
   "outputs": [
    {
     "data": {
      "image/png": "[encoded data removed]",
      "text/plain": [
       "<Figure size 432x288 with 1 Axes>"
      ]
     },
     "metadata": {
      "needs_background": "light"
     },
     "output_type": "display_data"
    },
    {
     "data": {
      "text/plain": [
       "array([367460.,      0.,      0.,      0.,      0.,      0.,      0.,\n",
       "            0.,      0.,      0.,      0.,      0.,  14849.,      0.,\n",
       "            0.,      0.,      0.,      0.,      0.,      0.,      0.,\n",
       "            0.,      0.,      0.,      0.,      0.,      0.,      0.,\n",
       "            0.,      0.,      0.,      0.,  24799.,      0.,      0.,\n",
       "            0.,      0.,      0.,      0.,      0.,      0.,      0.,\n",
       "            0.,      0.,      0.,      0.,      0.,      0.,  19518.,\n",
       "            0.,      0.,      0.,      0.,      0.,      0.,      0.,\n",
       "            0.,      0.,      0.,      0.,  15320.,      0.,      0.,\n",
       "            0.,      0.,      0.,      0.,      0.,      0.,      0.,\n",
       "            0.,  13035.,      0.,      0.,      0.,      0.,      0.,\n",
       "            0.,      0.,      0.,      0.,  12791.,      0.,      0.,\n",
       "            0.,      0.,      0.,      0.,      0.,      0.,      0.,\n",
       "        12103.,      0.,      0.,      0.,      0.,      0.,      0.,\n",
       "         9195.,      0.,      0.,      0.,      0.,      0.,   7453.,\n",
       "            0.,      0.,      0.,      0.,   6260.,      0.,      0.,\n",
       "            0.,      0.,   5440.,      0.,      0.,      0.,   4662.,\n",
       "            0.,      0.,   4176.,      0.,      0.,   3763.,      0.,\n",
       "            0.,   3417.,      0.,   3140.,      0.,      0.,   2982.,\n",
       "            0.,   2635.,      0.,   2559.,      0.,   2274.,   2025.,\n",
       "            0.,   1895.,   1876.,      0.,   1718.,   1581.,   1505.,\n",
       "         1478.,      0.,   1399.,   1367.,   1288.,   1233.,   1158.,\n",
       "         2172.,   1011.,   1033.,   1669.,    829.,   1657.,    802.,\n",
       "         1556.,    795.,   1463.,   1451.,   1425.,    661.,   1282.,\n",
       "         1241.,   1733.,   1083.,   1450.,    905.,   1254.,   1246.,\n",
       "         1436.,   1131.,   1285.,   1270.,   1325.,   1259.,   1207.,\n",
       "         1194.,   1182.,   1248.,   1305.,   1240.,   1296.,   1131.,\n",
       "         1196.,   1321.,   1173.,   1177.,   1268.,   1146.,   1289.,\n",
       "         1217.,   1407.,    965.,   1227.,   1286.,   1523.,      0.,\n",
       "         1587.,   1611.,   1680.,      0.,   1643.,   1656.,   1556.,\n",
       "            0.,   1626.,   1788.,   1723.,      0.,   1787.,   1651.,\n",
       "            0.,   1747.,   1746.,   1579.,      0.,   1567.,   1362.,\n",
       "         1315.,   1237.,   1238.,   1125.,   2173.,   1065.,   1061.,\n",
       "         1042.,   1049.,   1072.,   1986.,   1062.,   1150.,   1142.,\n",
       "         1084.,   1063.,   1997.,    948.,    905.,   1596.,   1506.,\n",
       "         1322.,   1157.,   1138.,   1068.,   1479.,    923.,   1394.,\n",
       "         1476.,    542.,      0.,   2600.])"
      ]
     },
     "execution_count": 120,
     "metadata": {},
     "output_type": "execute_result"
    }
   ],
   "source": [
    "f6(ruta1,mostrar=True)\n",
    "#f3(ruta1,mostrar=True)\n",
    "#len(Y)"
   ]
  },
  {
   "cell_type": "markdown",
   "id": "b5075dee-9d35-4d15-9822-cd354c4b12fe",
   "metadata": {},
   "source": [
    "### Ej7 \n",
    "Dada una imagen a la cual se le ecualizo su histograma, aplicar la ecualizacion del histograma por segunda vez a la misma imagen. Observar el resultado y dar una explicacion de lo sucedido."
   ]
  },
  {
   "cell_type": "code",
   "execution_count": 39,
   "id": "28242417-5f88-4795-a198-e013cac74359",
   "metadata": {},
   "outputs": [],
   "source": [
    "def f7(ruta:str, mostrar:bool= False): \n",
    "    img = cv2.imread(ruta,cv2.IMREAD_GRAYSCALE)\n",
    "    if img is None: \n",
    "        print(\"Error ruta no valida\")\n",
    "        exit()\n",
    "    histogram = f3(ruta)\n",
    "    bins = np.iinfo(img.dtype).max + 1\n",
    "    cdf = histogram.cumsum() / img.size\n",
    "    # primera equalizacion \n",
    "    equa1 = equalization(cdf,bins-1)\n",
    "    X,Y = img.shape\n",
    "    hist_equa = np.zeros(bins)\n",
    "    for i in range(X):\n",
    "        for j in range(Y): \n",
    "            gris = equa1[img[i,j]]\n",
    "            hist_equa[gris] += 1\n",
    "    cdf2 = hist_equa.cumsum() / img.size\n",
    "    # segunda equalization\n",
    "    equa2 = equalization(cdf2,bins-1)\n",
    "    hist_equa2 = np.zeros(bins)\n",
    "    for i in range(X):\n",
    "        for j in range(Y): \n",
    "            gris = equa2[img[i,j]]\n",
    "            hist_equa2[gris] += 1\n",
    "    if mostrar :\n",
    "        plt.plot(hist_equa2, color='red')\n",
    "        plt.title('Histograma de Niveles de Gris')\n",
    "        plt.xlabel('Nivel de Gris')\n",
    "        plt.ylabel('Cantidad de Píxeles')\n",
    "        plt.xlim([0,bins])\n",
    "        plt.show()\n",
    "    return hist_equa2"
   ]
  },
  {
   "cell_type": "code",
   "execution_count": 40,
   "id": "1bd8bfa7-7fed-48a1-a2b6-32ae4c7f8ed9",
   "metadata": {
    "scrolled": true
   },
   "outputs": [
    {
     "data": {
      "image/png": "[encoded data removed]",
      "text/plain": [
       "<Figure size 432x288 with 1 Axes>"
      ]
     },
     "metadata": {
      "needs_background": "light"
     },
     "output_type": "display_data"
    },
    {
     "data": {
      "text/plain": [
       "array([5.08223e+05, 0.00000e+00, 0.00000e+00, 0.00000e+00, 0.00000e+00,\n",
       "       0.00000e+00, 0.00000e+00, 0.00000e+00, 0.00000e+00, 0.00000e+00,\n",
       "       0.00000e+00, 0.00000e+00, 4.69730e+04, 0.00000e+00, 0.00000e+00,\n",
       "       0.00000e+00, 0.00000e+00, 0.00000e+00, 0.00000e+00, 0.00000e+00,\n",
       "       0.00000e+00, 0.00000e+00, 0.00000e+00, 0.00000e+00, 0.00000e+00,\n",
       "       0.00000e+00, 0.00000e+00, 0.00000e+00, 0.00000e+00, 0.00000e+00,\n",
       "       0.00000e+00, 0.00000e+00, 1.41450e+04, 0.00000e+00, 0.00000e+00,\n",
       "       0.00000e+00, 0.00000e+00, 0.00000e+00, 0.00000e+00, 0.00000e+00,\n",
       "       0.00000e+00, 0.00000e+00, 0.00000e+00, 0.00000e+00, 0.00000e+00,\n",
       "       0.00000e+00, 0.00000e+00, 0.00000e+00, 7.79300e+03, 0.00000e+00,\n",
       "       0.00000e+00, 0.00000e+00, 0.00000e+00, 0.00000e+00, 0.00000e+00,\n",
       "       0.00000e+00, 0.00000e+00, 0.00000e+00, 0.00000e+00, 0.00000e+00,\n",
       "       5.13400e+03, 0.00000e+00, 0.00000e+00, 0.00000e+00, 0.00000e+00,\n",
       "       0.00000e+00, 0.00000e+00, 0.00000e+00, 0.00000e+00, 0.00000e+00,\n",
       "       0.00000e+00, 3.70100e+03, 0.00000e+00, 0.00000e+00, 0.00000e+00,\n",
       "       0.00000e+00, 0.00000e+00, 0.00000e+00, 0.00000e+00, 0.00000e+00,\n",
       "       0.00000e+00, 3.04300e+03, 0.00000e+00, 0.00000e+00, 0.00000e+00,\n",
       "       0.00000e+00, 0.00000e+00, 0.00000e+00, 0.00000e+00, 0.00000e+00,\n",
       "       0.00000e+00, 1.76600e+03, 0.00000e+00, 0.00000e+00, 0.00000e+00,\n",
       "       0.00000e+00, 0.00000e+00, 0.00000e+00, 1.41600e+03, 0.00000e+00,\n",
       "       0.00000e+00, 0.00000e+00, 0.00000e+00, 0.00000e+00, 9.85000e+02,\n",
       "       0.00000e+00, 0.00000e+00, 0.00000e+00, 0.00000e+00, 9.93000e+02,\n",
       "       0.00000e+00, 0.00000e+00, 0.00000e+00, 0.00000e+00, 7.42000e+02,\n",
       "       0.00000e+00, 0.00000e+00, 0.00000e+00, 4.99000e+02, 0.00000e+00,\n",
       "       0.00000e+00, 5.85000e+02, 0.00000e+00, 0.00000e+00, 5.30000e+02,\n",
       "       0.00000e+00, 0.00000e+00, 3.86000e+02, 0.00000e+00, 5.35000e+02,\n",
       "       0.00000e+00, 0.00000e+00, 3.40000e+02, 0.00000e+00, 3.65000e+02,\n",
       "       0.00000e+00, 3.89000e+02, 0.00000e+00, 1.90000e+02, 3.62000e+02,\n",
       "       0.00000e+00, 1.61000e+02, 3.57000e+02, 0.00000e+00, 1.94000e+02,\n",
       "       1.81000e+02, 1.79000e+02, 4.14000e+02, 0.00000e+00, 2.13000e+02,\n",
       "       1.95000e+02, 1.97000e+02, 1.97000e+02, 1.94000e+02, 2.00000e+02,\n",
       "       2.11000e+02, 2.05000e+02, 2.26000e+02, 2.11000e+02, 2.24000e+02,\n",
       "       2.44000e+02, 2.37000e+02, 2.30000e+02, 2.30000e+02, 2.44000e+02,\n",
       "       2.32000e+02, 2.32000e+02, 2.22000e+02, 2.37000e+02, 2.39000e+02,\n",
       "       2.47000e+02, 2.32000e+02, 2.74000e+02, 2.38000e+02, 2.52000e+02,\n",
       "       2.72000e+02, 2.80000e+02, 2.88000e+02, 3.04000e+02, 2.74000e+02,\n",
       "       3.03000e+02, 3.12000e+02, 3.30000e+02, 3.44000e+02, 3.40000e+02,\n",
       "       4.06000e+02, 4.71000e+02, 6.07000e+02, 8.00000e+02, 9.65000e+02,\n",
       "       1.22700e+03, 1.28600e+03, 1.52300e+03, 1.58700e+03, 1.61100e+03,\n",
       "       1.68000e+03, 1.64300e+03, 1.65600e+03, 1.55600e+03, 1.62600e+03,\n",
       "       1.78800e+03, 3.51000e+03, 0.00000e+00, 1.65100e+03, 1.74700e+03,\n",
       "       3.32500e+03, 0.00000e+00, 1.56700e+03, 1.36200e+03, 2.55200e+03,\n",
       "       0.00000e+00, 1.23800e+03, 1.12500e+03, 2.17300e+03, 0.00000e+00,\n",
       "       1.06500e+03, 2.10300e+03, 0.00000e+00, 1.04900e+03, 1.07200e+03,\n",
       "       1.98600e+03, 0.00000e+00, 1.06200e+03, 1.15000e+03, 1.14200e+03,\n",
       "       1.08400e+03, 1.06300e+03, 1.03700e+03, 9.60000e+02, 9.48000e+02,\n",
       "       9.05000e+02, 7.82000e+02, 8.14000e+02, 7.67000e+02, 7.39000e+02,\n",
       "       6.89000e+02, 6.33000e+02, 5.90000e+02, 5.67000e+02, 5.70000e+02,\n",
       "       5.68000e+02, 5.57000e+02, 5.11000e+02, 5.29000e+02, 4.66000e+02,\n",
       "       4.84000e+02, 4.68000e+02, 4.55000e+02, 4.73000e+02, 5.01000e+02,\n",
       "       4.20000e+02, 4.21000e+02, 4.84000e+02, 1.11300e+03, 0.00000e+00,\n",
       "       2.60000e+03])"
      ]
     },
     "execution_count": 40,
     "metadata": {},
     "output_type": "execute_result"
    }
   ],
   "source": [
    "f7(ruta1,mostrar=True)"
   ]
  },
  {
   "cell_type": "markdown",
   "id": "b9e8a85a-3a35-45dd-a3cd-4e15df85bea8",
   "metadata": {},
   "source": [
    "### Ej8 "
   ]
  },
  {
   "cell_type": "code",
   "execution_count": 135,
   "id": "76dc0c9e-2348-4a0a-9ae7-38315da477a1",
   "metadata": {},
   "outputs": [
    {
     "data": {
      "text/plain": [
       "683000"
      ]
     },
     "execution_count": 135,
     "metadata": {},
     "output_type": "execute_result"
    }
   ],
   "source": [
    "img = cv2.imread(ruta1,cv2.IMREAD_GRAYSCALE)\n",
    "img.size"
   ]
  }
 ],
 "metadata": {
  "kernelspec": {
   "display_name": "Python 3 (ipykernel)",
   "language": "python",
   "name": "python3"
  },
  "language_info": {
   "codemirror_mode": {
    "name": "ipython",
    "version": 3
   },
   "file_extension": ".py",
   "mimetype": "text/x-python",
   "name": "python",
   "nbconvert_exporter": "python",
   "pygments_lexer": "ipython3",
   "version": "3.10.12"
  }
 },
 "nbformat": 4,
 "nbformat_minor": 5
}
