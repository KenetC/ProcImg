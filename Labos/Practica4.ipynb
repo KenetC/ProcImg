{
  "cells": [
    {
      "cell_type": "markdown",
      "source": [
        "### Configuracion"
      ],
      "metadata": {
        "id": "rJZbOXFZ8y4m"
      }
    },
    {
      "cell_type": "code",
      "execution_count": null,
      "metadata": {
        "id": "Z9g8RstMOkLI"
      },
      "outputs": [],
      "source": [
        "import numpy as np\n",
        "import cmath\n",
        "import math\n",
        "import matplotlib.pyplot as plt\n",
        "\n",
        "from skimage.draw import rectangle, line\n",
        "from skimage.transform import rotate\n",
        "import skimage.io as io\n",
        "\n",
        "import os"
      ]
    },
    {
      "cell_type": "markdown",
      "source": [
        "### Ejemplo de Numeros Imaginarios"
      ],
      "metadata": {
        "id": "HaZLOjZ1wXFw"
      }
    },
    {
      "cell_type": "code",
      "execution_count": null,
      "metadata": {
        "colab": {
          "base_uri": "https://localhost:8080/"
        },
        "id": "bvmDIpeVRzzP",
        "outputId": "7e5851c2-d1ad-45b8-d0d9-933dca81345f"
      },
      "outputs": [
        {
          "output_type": "stream",
          "name": "stdout",
          "text": [
            "La parte real del numero es: 5.0\n",
            "La parte imaginaria del numero es: 3.0\n",
            "\n",
            "Arreglo Complejo\n",
            "[ 7.-1.j -4.-8.j  4.-9.j  2.-5.j]\n",
            "Parte Real\n",
            "[ 7. -4.  4.  2.]\n",
            "Parte Imaginaria\n",
            "[-1. -8. -9. -5.]\n"
          ]
        }
      ],
      "source": [
        "x = 5\n",
        "y = 3\n",
        "\n",
        "# creamos a z = x + iy\n",
        "z = x + 1j * y\n",
        "\n",
        "# imprimimos la parte Real e Imaginaria. T\n",
        "print(\"La parte real del numero es:\", z.real)\n",
        "print(\"La parte imaginaria del numero es:\", z.imag)\n",
        "\n",
        "print()\n",
        "\n",
        "# Numpy tambien acepta operar con numeros complejos\n",
        "arregloReales = np.random.randint(size=4,low=-10, high=10)\n",
        "arregloImaginarios = np.random.randint(size=4,low=-10, high=10) * 1j\n",
        "arregloComplejo = arregloReales + arregloImaginarios\n",
        "\n",
        "print(\"Arreglo Complejo\")\n",
        "print(arregloComplejo)\n",
        "\n",
        "print(\"Parte Real\")\n",
        "print(np.real(arregloComplejo))\n",
        "\n",
        "print(\"Parte Imaginaria\")\n",
        "print(np.imag(arregloComplejo))\n"
      ]
    },
    {
      "cell_type": "markdown",
      "metadata": {
        "id": "AVMtiIp3OHvN"
      },
      "source": [
        "### 1. Graficar las bases de la Transformada de Fourier de dimensión 8 en 1-D y de dimensión 8 × 8 en 2-D"
      ]
    },
    {
      "cell_type": "code",
      "execution_count": null,
      "metadata": {
        "colab": {
          "base_uri": "https://localhost:8080/",
          "height": 106
        },
        "id": "GPIB1tZGOBWw",
        "outputId": "03e8fd8d-5864-4965-dd73-1f1dac78b865",
        "collapsed": true
      },
      "outputs": [
        {
          "output_type": "error",
          "ename": "SyntaxError",
          "evalue": "invalid syntax (<ipython-input-3-7b824de21ba8>, line 20)",
          "traceback": [
            "\u001b[0;36m  File \u001b[0;32m\"<ipython-input-3-7b824de21ba8>\"\u001b[0;36m, line \u001b[0;32m20\u001b[0m\n\u001b[0;31m    bases1D[frecuencia][i] = #COMPLETAR#\u001b[0m\n\u001b[0m                             ^\u001b[0m\n\u001b[0;31mSyntaxError\u001b[0m\u001b[0;31m:\u001b[0m invalid syntax\n"
          ]
        }
      ],
      "source": [
        "#Numero de Muestras de la senal\n",
        "N = 8\n",
        "\n",
        "#Opciones para graficar\n",
        "#Velocidad del sampleo\n",
        "sampleoRate = 1/100\n",
        "#Cuantos sampleos se haran\n",
        "sampleoGrafico = int(N/sampleoRate)\n",
        "\n",
        "#Inicializamos un arreglo para guardar cada base y su evolucion\n",
        "bases1D = np.zeros((N,sampleoGrafico)) * 1j\n",
        "\n",
        "#Recorremos cada frecuencia\n",
        "for frecuencia in range(0,N):\n",
        "  for i in range(sampleoGrafico):\n",
        "    # Por cada vemos como avanza en el tiempo para luego plotearla\n",
        "    t = i*sampleoRate\n",
        "    frecuenciaAngular = ((2*np.pi)/N) * (frecuencia);\n",
        "    # Calculamos la parte real e imaginaria de la base.\n",
        "    bases1D[frecuencia][i] = #COMPLETAR#\n",
        "\n",
        "fig, axes = plt.subplots(2,4, figsize=(10, 5),sharex=True, sharey=True, layout=\"constrained\")\n",
        "for base in range(N):\n",
        "  axes[base//4][base%4].plot(np.arange(0,sampleoGrafico*sampleoRate,sampleoRate),np.real(bases1D[base]))\n",
        "  axes[base//4][base%4].plot(np.arange(0,sampleoGrafico*sampleoRate,sampleoRate),np.imag(bases1D[base]))\n",
        "  for sample in range(N):\n",
        "    # Mostramos que valor tiene cada base al momento del sampleo de las N.\n",
        "    axes[base//4][base%4].axvline(x = sample, ymin=0.02, ymax=0.99  , color = 'r', ls='--', lw=0.5)\n",
        "\n",
        "fig.legend()\n"
      ]
    },
    {
      "cell_type": "code",
      "source": [
        "# Ploteo de las bases en 2D\n",
        "#Definimos el sampleo horizontal y vertical\n",
        "N = 6\n",
        "M = 6\n",
        "#Configuramos los valores para graficar\n",
        "sampleoRate = 1/20\n",
        "sampleoGrafico = int(N/sampleoRate)\n",
        "\n",
        "#Ahora nuestras bases seran matrices, no arreglos\n",
        "bases2D = np.zeros((N,M,sampleoGrafico,sampleoGrafico)) * 1j\n",
        "\n",
        "for frecuenciaX in range(0,N):\n",
        "  for frecuenciaY in range(0,M):\n",
        "    for intervaloX in range(sampleoGrafico):\n",
        "      for intervaloY in range(sampleoGrafico):\n",
        "        # Calculamos como la base avanza en el tiempo y guardamos su valor\n",
        "        tX = intervaloX*sampleoRate\n",
        "        tY = intervaloY*sampleoRate\n",
        "        frecuenciaAngularX =\n",
        "        frecuenciaAngularY =\n",
        "        angulo =\n",
        "        bases2D[frecuenciaX][frecuenciaY][i][j] =\n",
        "\n",
        "fig, axes = plt.subplots(N,M, figsize=(20, 10),sharex=True, sharey=True, layout=\"constrained\")\n",
        "for baseX in range(N):\n",
        "  for baseY in range(M):\n",
        "    axes[baseX][baseY].matshow(np.real(bases2D[baseX][baseY]),cmap=plt.cm.gray)\n"
      ],
      "metadata": {
        "id": "ZBON_rH7i9io",
        "collapsed": true
      },
      "execution_count": null,
      "outputs": []
    },
    {
      "cell_type": "markdown",
      "source": [
        "### Implementar la DFT en 1D\n",
        "\n",
        "Visualizacion interactiva entre la relacion de los numeros complejos y los caminos circulares: [betterexplained.com](https://betterexplained.com/examples/fourier/)"
      ],
      "metadata": {
        "id": "bYxV6tyn5cGR"
      }
    },
    {
      "cell_type": "code",
      "source": [
        "\"\"\"La funcion debe devolver un arreglo con la magnitud de la frecuencia y tambien su Fase\"\"\"\n",
        "def DFT_1D(senal):\n",
        "  # Realizamos el producto interno entre cada base y la senal original\n",
        "  # Calculamas el modulo y la fase del numero complejo\n",
        "  pass\n",
        "\n",
        "def IDFT_1D(senalModulo, senalFase):\n",
        "  # Realizamos la sumatoria entre cada base y su proyeccion\n",
        "  # obteniendo la imagen original\n",
        "  pass"
      ],
      "metadata": {
        "id": "T8yz2NYU53d2"
      },
      "execution_count": null,
      "outputs": []
    },
    {
      "cell_type": "code",
      "source": [
        "senal = np.array([1, 1, 1, 1, 1, 1, 1, 1, 1, 0, 0, 0, 0, 0, 0, 0])\n",
        "senalModulo, senalFase = DFT_1D(senal)\n",
        "\n",
        "## Suprimir Frecuencias Altas\n",
        "senalModuloSinAltas =\n",
        "senalSinAltas = IDFT_1D(senalModuloSinAltas,senalFase)\n",
        "\n",
        "## Suprimir Frecuencias Intermedias\n",
        "senalModuloSinIntermedias =\n",
        "senalSinAltas = IDFT_1D(senalModuloSinIntermedias,senalFase)\n",
        "\n",
        "## Suprimir Frecuencias Bajas\n",
        "senalModuloSinBajas =\n",
        "senalSinAltas = IDFT_1D(senalModuloSinBajas,senalFase)\n",
        "\n",
        "\n",
        "fig, axes = plt.subplots(1, 4, figsize=(10, 10),sharex=True, sharey=True, layout=\"constrained\")\n",
        "axes[0].plot(range(senal.shape[0]), senal)\n",
        "axes[1].plot(range(senal.shape[0]), senalSinAltas)\n",
        "axes[2].plot(range(senal.shape[0]), senalModuloSinIntermedias)\n",
        "axes[3].plot(range(senal.shape[0]), senalModuloSinBajas)\n",
        "plt.show()\n"
      ],
      "metadata": {
        "id": "8AI3bdyO79-i"
      },
      "execution_count": null,
      "outputs": []
    },
    {
      "cell_type": "markdown",
      "source": [
        "## Generar 10 imágenes y hacer la DFT y la IDFT de cada una\n",
        "\n",
        "\n",
        "\n",
        "\n",
        "\n",
        "\n",
        "\n"
      ],
      "metadata": {
        "id": "sL_u1UAitr9m"
      }
    },
    {
      "cell_type": "code",
      "source": [
        "\"\"\"\n",
        "Recuerden que DFT devuelve numeros complejos, en este caso querremos devolver 2\n",
        "matrices, la primera contendra la magnitud del numero en la frecuencia y la segunda\n",
        "contendra su angulo\n",
        "\"\"\"\n",
        "def DFT_2D(imagen):\n",
        "  pass\n",
        "\n",
        "def IDFT_2D(frecuenciasMagnitud, frecuenciasAngulo):\n",
        "  pass"
      ],
      "metadata": {
        "id": "6pziQNAJ4Ukg"
      },
      "execution_count": null,
      "outputs": []
    },
    {
      "cell_type": "code",
      "source": [
        "def mostrarDFTyIDFT(imagenOriginal):\n",
        "  ## Aplicar DFS a la imagen\n",
        "  dfsImagenMagnitud, dfsImagenPhase = DFT_2D(imagenOriginal)\n",
        "  imagenReconstruida = IDFT_2D(dfsImagenMagnitud, dfsImagenPhase)\n",
        "\n",
        "  fig, axes = plt.subplots(2,2, figsize=(10, 10),sharex=True, sharey=True, layout=\"constrained\")\n",
        "  axes[0][0].matshow(imagenCuadradoTransladado, cmap=plt.cm.gray)\n",
        "  axes[0][1].matshow(dfsImagenMagnitud, cmap=plt.cm.gray)\n",
        "  axes[0][2].matshow(dfsImagenPhase, cmap=plt.cm.gray)\n",
        "  axes[0][3].matshow(imagenReconstruida, cmap=plt.cm.gray)\n"
      ],
      "metadata": {
        "id": "C0-7Ab7B3gGE"
      },
      "execution_count": null,
      "outputs": []
    },
    {
      "cell_type": "code",
      "source": [
        "#Indicamos el tamano de la imagen\n",
        "dimensionImagen = 100\n",
        "\n",
        "#### Cuadrado transladado ####\n",
        "#Creamos una imagen vacia\n",
        "imagenCuadradoTransladado = np.zeros((dimensionImagen, dimensionImagen), dtype=np.uint8)\n",
        "#inciamos donde iniciara el cuadrado\n",
        "start = (20,40)\n",
        "#Dado el tamano de los lados y su punto de inicio, nos devuelve las filas y columnas que ocupara\n",
        "rr, cc = rectangle(start, extent=(20, 20))\n",
        "#Pintamos esas celdas de blanco\n",
        "imagenCuadradoTransladado[rr, cc] = 255\n",
        "\n",
        "mostrarDFTyIDFT(imagenCuadradoTransladado)\n",
        "\n",
        "#### Cuadrado transladado ####\n",
        "imagenCuadradoCentral = np.zeros((dimensionImagen, dimensionImagen), dtype=np.uint8)\n",
        "mostrarDFTyIDFT(imagenCuadradoCentral)\n",
        "\n",
        "#### Rectangulo ####\n",
        "imagenRectangulo = np.zeros((dimensionImagen, dimensionImagen), dtype=np.uint8)\n",
        "mostrarDFTyIDFT(imagenRectangulo)\n",
        "\n",
        "#### 2 Rectangulos ####\n",
        "imagenDosRectangulo = np.zeros((dimensionImagen, dimensionImagen), dtype=np.uint8)\n",
        "mostrarDFTyIDFT(imagenDosRectangulo)\n",
        "\n",
        "#### Linea Vertical ####\n",
        "imagenLineaVertical = np.zeros((dimensionImagen, dimensionImagen), dtype=np.uint8)\n",
        "#indicamos el punto de inicio y el final de la linea\n",
        "rr, cc = line(40, 20, 40, 90)\n",
        "imagenLineaVertical[rr, cc] = 255\n",
        "\n",
        "mostrarDFTyIDFT(imagenLineaVertical)\n",
        "\n",
        "\n",
        "#### Linea 45' ####\n",
        "imagenLinea45 = np.zeros((dimensionImagen, dimensionImagen), dtype=np.uint8)\n",
        "mostrarDFTyIDFT(imagenLinea45)\n",
        "\n",
        "#### Linea 90' ####\n",
        "imagenLinea90 = np.zeros((dimensionImagen, dimensionImagen), dtype=np.uint8)\n",
        "mostrarDFTyIDFT(imagenLinea90)\n",
        "\n",
        "#### Varias Lineas ####\n",
        "imagenVariasLineas = np.zeros((dimensionImagen, dimensionImagen), dtype=np.uint8)\n",
        "mostrarDFTyIDFT(imagenVariasLineas)\n",
        "\n",
        "#### Varias Lineas 45' ####\n",
        "imagenVariasLineas45 = np.zeros((dimensionImagen, dimensionImagen), dtype=np.uint8)\n",
        "mostrarDFTyIDFT(imagenVariasLineas45)\n",
        "\n",
        "#### Varias Lineas 90' ####\n",
        "imagenVariasLineas90 = np.zeros((dimensionImagen, dimensionImagen), dtype=np.uint8)\n",
        "mostrarDFTyIDFT(imagenVariasLineas90)\n"
      ],
      "metadata": {
        "id": "90oQ_qPQtrmb"
      },
      "execution_count": null,
      "outputs": []
    },
    {
      "cell_type": "markdown",
      "source": [
        "## Hacer la Transformada de Fourier de dos imágenes dadas (I1 e I2)\n",
        "\n",
        "1.   Visualizar el módulo y la fase de cada una\n",
        "2.   Realizar IDFS utilizando el modulo de I1 y la fase de I2\n",
        "3.   Realizar IDFS utilizando el modulo de I2 y la fase de I1\n",
        "\n",
        "Analizar el aporte del módulo y la fase en cada caso"
      ],
      "metadata": {
        "id": "tiEem7cr7Qg3"
      }
    },
    {
      "cell_type": "code",
      "source": [
        "imagenUnoFilename = os.path.join(\"/content/Imagenes\", 'cameraman.jpg')\n",
        "imagenUno = io.imread(imagenUnoFilename, as_gray=True)\n",
        "\n",
        "imagenDosFilename = os.path.join(\"/content/Imagenes\", 'einstein.jpg')\n",
        "imagenDos = io.imread(imagenDosFilename, as_gray=True)\n",
        "\n",
        "fig, axes = plt.subplots(3, 3, figsize=(10, 10))\n",
        "\n",
        "imagenUnoModulo, imagenUnoFase = DFT_2D(imagenUno)\n",
        "axes[0][0].imshow(imagenUno, cmap=plt.cm.gray)\n",
        "axes[0][1].imshow(imagenUnoModulo, cmap=plt.cm.gray)\n",
        "axes[0][2].imshow(imagenUnoFase, cmap=plt.cm.gray)\n",
        "\n",
        "### COMPLETAR ###\n",
        "\n",
        "fig.tight_layout()\n",
        "plt.show()\n"
      ],
      "metadata": {
        "id": "4_5A4vu18WoN"
      },
      "execution_count": null,
      "outputs": []
    },
    {
      "cell_type": "markdown",
      "source": [
        "### Componer una imagen con Cameraman y líneas horizontales (sumarlas), y remover las líneas usando la transformada de Fourier."
      ],
      "metadata": {
        "id": "sT8oNzyW-OAl"
      }
    },
    {
      "cell_type": "code",
      "source": [
        "# Abrir la imagen\n",
        "# Agregan las lineas horizontales\n",
        "# Realizan la transformacion de Fourier\n",
        "# Analizen las funciones devueltas y piensen si pueden detectar que frecuencia estan asociadas a las lineas\n",
        "# Eliminen las lineas\n",
        "# Ploteen el resutado en un subplot de 3, 2. La primer fila mostrando la imagen original, las lineas por separado y la composicion\n",
        "# La segunda fila mostrando la funcion el plano de modulo, fase y la imagen sin las lineas"
      ],
      "metadata": {
        "id": "0aOByIpq-ZgR"
      },
      "execution_count": null,
      "outputs": []
    }
  ],
  "metadata": {
    "colab": {
      "provenance": [],
      "collapsed_sections": [
        "HaZLOjZ1wXFw"
      ]
    },
    "kernelspec": {
      "display_name": "Python 3",
      "name": "python3"
    },
    "language_info": {
      "name": "python"
    }
  },
  "nbformat": 4,
  "nbformat_minor": 0
}