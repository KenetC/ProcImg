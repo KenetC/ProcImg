{
 "cells": [
  {
   "cell_type": "code",
   "execution_count": 76,
   "id": "da19bc0e",
   "metadata": {},
   "outputs": [],
   "source": [
    "import numpy as np \n",
    "import numpy.linalg as LA\n",
    "import cv2\n",
    "import matplotlib.pyplot as plt\n",
    "from scipy.ndimage import convolve,correlate"
   ]
  },
  {
   "cell_type": "code",
   "execution_count": 2,
   "id": "b1102c80",
   "metadata": {},
   "outputs": [],
   "source": [
    "ruta1 = 'Imagenes_para_contraste/asteroid.jpg'\n",
    "ruta2 = 'Imagenes de pruebas/cameraman.jpg'\n",
    "ruta3 = 'Imagenes de pruebas/peppers_gray.tif'"
   ]
  },
  {
   "cell_type": "code",
   "execution_count": 3,
   "id": "86f79f30",
   "metadata": {},
   "outputs": [],
   "source": [
    "def verificar(ruta:str): \n",
    "    img = cv2.imread(ruta,cv2.IMREAD_GRAYSCALE)\n",
    "    if img is None: \n",
    "        print(\"Error ruta no valida\")\n",
    "        exit()\n",
    "    return img "
   ]
  },
  {
   "cell_type": "code",
   "execution_count": 53,
   "id": "6546cae6",
   "metadata": {},
   "outputs": [],
   "source": [
    "DxRoberts = np.array([[1, 0],[0, -1]], dtype=np.float32)  \n",
    "DyRoberts = np.array([[0, 1],[-1, 0]], dtype=np.float32)  \n",
    "DxPrewitt = np.array([[-1,0,1],[-1,0,1],[-1,0,1]],dtype=np.float32)\n",
    "DyPrewitt = np.array([[-1,-1,-1],[0,0,0],[1,1,1]],dtype=np.float32)\n",
    "DxSobel = np.array([[-1,0,1],[-2,0,2],[-1,0,1]],dtype=np.float32)\n",
    "DySobel = np.array([[1,2,1],[0,0,0],[-1,-2,-1]],dtype=np.float32)"
   ]
  },
  {
   "cell_type": "markdown",
   "id": "59c2ab06",
   "metadata": {},
   "source": [
    "### Ejercicio 1 \n",
    "\n",
    "##### Roberts"
   ]
  },
  {
   "cell_type": "code",
   "execution_count": 58,
   "id": "d48336e8",
   "metadata": {},
   "outputs": [],
   "source": [
    "def detector_Roberts(ruta:str,umbral:int,method:str,mostrar:bool=False): \n",
    "    img = verificar(ruta)\n",
    "    if method == \"Roberts\":\n",
    "        gradX = cv2.filter2D(img,-1,DxRoberts)#convolve(img,Dx)\n",
    "        gradY = cv2.filter2D(img,-1,DyRoberts)#convolve(img,Dy)\n",
    "    elif method == \"Prewitt\":\n",
    "        gradX = cv2.filter2D(img,-1,DxPrewitt)#convolve(img,Dx)\n",
    "        gradY = cv2.filter2D(img,-1,DyPrewitt)#convolve(img,Dy)\n",
    "    elif method == \"Sobel\":\n",
    "        gradX = cv2.filter2D(img,-1,DxSobel)#convolve(img,Dx)\n",
    "        gradY = cv2.filter2D(img,-1,DySobel)#convolve(img,Dy)\n",
    "    else :\n",
    "        print(\"Method not exists\")\n",
    "        exit()\n",
    "    \n",
    "#     mag = np.sqrt(gradX**2 + gradY**2)\n",
    "    mag = LA.norm([gradX,gradY],axis=0,ord=1)\n",
    "    norm_mag = ((mag / np.max(mag)) * 255)\n",
    "    norm_mag = ((norm_mag > umbral) * 255).astype(np.uint8)\n",
    "    if mostrar :\n",
    "        cv2.imshow('Original',img)\n",
    "        cv2.imshow('Roberts',norm_mag)\n",
    "        cv2.waitKey(0)\n",
    "        cv2.destroyAllWindows()\n",
    "    return norm_mag"
   ]
  },
  {
   "cell_type": "code",
   "execution_count": 61,
   "id": "0716d7ad",
   "metadata": {},
   "outputs": [],
   "source": [
    "rober = detector_Roberts(ruta3,20,\"Sobel\",True)"
   ]
  },
  {
   "cell_type": "code",
   "execution_count": 23,
   "id": "33fbbdce",
   "metadata": {},
   "outputs": [],
   "source": [
    "#cv2.imshow(\"asd\",((rober > 150) * 255).astype(np.uint8))\n",
    "cv2.imshow(\"1\",x1)\n",
    "cv2.imshow(\"2\",x2)\n",
    "cv2.waitKey(0)\n",
    "cv2.destroyAllWindows()"
   ]
  },
  {
   "cell_type": "code",
   "execution_count": 43,
   "id": "3f2d9bf4",
   "metadata": {},
   "outputs": [
    {
     "data": {
      "image/png": "[encoded data removed]",
      "text/plain": [
       "<Figure size 1080x360 with 3 Axes>"
      ]
     },
     "metadata": {
      "needs_background": "light"
     },
     "output_type": "display_data"
    }
   ],
   "source": [
    "# Crear una imagen de prueba\n",
    "img = np.array([[1, 2, 3, 4, 5],\n",
    "                [6, 7, 8, 9, 10],\n",
    "                [11, 12, 13, 14, 15],\n",
    "                [16, 17, 18, 19, 20],\n",
    "                [21, 22, 23, 24, 25]], dtype=np.float32)\n",
    "\n",
    "# Definir un kernel (máscara) de ejemplo\n",
    "kernel = np.array([[1, 0, -1],\n",
    "                   [1, 0, -1],\n",
    "                   [1, 0, -1]], dtype=np.float32)\n",
    "\n",
    "# Usar OpenCV (cv2.filter2D)\n",
    "conv_cv2 = cv2.filter2D(img, -1, kernel)\n",
    "\n",
    "# Usar SciPy (scipy.ndimage.convolve)\n",
    "conv_scipy = convolve(img, kernel)\n",
    "\n",
    "# Visualizar resultados\n",
    "fig, ax = plt.subplots(1, 3, figsize=(15, 5))\n",
    "ax[0].imshow(img, cmap='gray')\n",
    "ax[0].set_title(\"Imagen Original\")\n",
    "\n",
    "ax[1].imshow(conv_cv2, cmap='gray')\n",
    "ax[1].set_title(\"Convolución con cv2.filter2D\")\n",
    "\n",
    "ax[2].imshow(conv_scipy, cmap='gray')\n",
    "ax[2].set_title(\"Convolución con scipy.ndimage.convolve\")\n",
    "\n",
    "for a in ax:\n",
    "    a.axis('off')\n",
    "\n",
    "plt.show()\n"
   ]
  },
  {
   "cell_type": "code",
   "execution_count": 65,
   "id": "46aa1284",
   "metadata": {},
   "outputs": [
    {
     "data": {
      "image/png": "[encoded data removed]",
      "text/plain": [
       "<Figure size 432x288 with 1 Axes>"
      ]
     },
     "metadata": {
      "needs_background": "light"
     },
     "output_type": "display_data"
    }
   ],
   "source": [
    "#cv2.imshow(\"hola\",)\n",
    "plt.imshow(cv2.filter2D(img,-1,kernel),cmap = \"gray\")\n",
    "plt.axis('off')  # Ocultar los ejes\n",
    "plt.show()"
   ]
  },
  {
   "cell_type": "code",
   "execution_count": 102,
   "id": "5ab69ce3",
   "metadata": {},
   "outputs": [
    {
     "data": {
      "text/plain": [
       "array([[ 0., -6., -6., -6.,  0.],\n",
       "       [ 0., -6., -6., -6.,  0.],\n",
       "       [ 0., -6., -6., -6.,  0.],\n",
       "       [ 0., -6., -6., -6.,  0.],\n",
       "       [ 0., -6., -6., -6.,  0.]], dtype=float32)"
      ]
     },
     "execution_count": 102,
     "metadata": {},
     "output_type": "execute_result"
    }
   ],
   "source": [
    "#cv2.filter2D(img,-1,kernel)\n",
    "\n",
    "convolve(img,kernel,mode=\"mirror\") #- \n",
    "correlate(img,kernel,mode=\"mirror\")\n",
    "#convolve(np.array([[1,4,1],[2,5,3]]),np.array([[0,-1,1],[-1,4,-1],[0,-1,0]]).T,mode=\"constant\")-correlate(np.array([[1,4,1],[2,5,3]]),np.array([[0,-1,1],[-1,4,-1],[0,-1,0]]),mode=\"constant\")"
   ]
  }
 ],
 "metadata": {
  "kernelspec": {
   "display_name": "Python 3 (ipykernel)",
   "language": "python",
   "name": "python3"
  },
  "language_info": {
   "codemirror_mode": {
    "name": "ipython",
    "version": 3
   },
   "file_extension": ".py",
   "mimetype": "text/x-python",
   "name": "python",
   "nbconvert_exporter": "python",
   "pygments_lexer": "ipython3",
   "version": "3.10.12"
  }
 },
 "nbformat": 4,
 "nbformat_minor": 5
}
